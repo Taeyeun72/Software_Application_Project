{
 "cells": [
  {
   "cell_type": "code",
   "execution_count": 2,
   "id": "b173fbd1-b9af-40b4-957d-cb0cf974d0b3",
   "metadata": {},
   "outputs": [],
   "source": [
    "import os\n",
    "import json\n",
    "import librosa\n",
    "import soundfile as sf\n",
    "\n",
    "def is_json(filename):\n",
    "    return filename[-4:] == 'json'\n",
    "\n",
    "def list_files_and_directories(root_dir, save_dir):\n",
    "    len_root_dir = len(root_dir)\n",
    "    for dirpath, dirnames, filenames in os.walk(root_dir):\n",
    "        print(\"Processing:\", dirpath)\n",
    "        for filename in filenames:\n",
    "            if is_json(filename):\n",
    "                filepath = os.path.join(dirpath, filename)\n",
    "                with open(filepath, \"r\", encoding=\"utf-8\") as json_file:\n",
    "                    data = json.load(json_file)\n",
    "\n",
    "                    # wav file (1)\n",
    "                    wav_filename = filename.replace('.json', '.wav')\n",
    "                    wav_filepath = dirpath.replace('라벨링', '원천')\n",
    "                    wav_filepath_SD = os.path.join(wav_filepath, wav_filename)\n",
    "                    wav_filepath_SN = wav_filepath_SD.replace('SD', 'SN')\n",
    "                    \n",
    "                    if os.path.exists(wav_filepath_SD):\n",
    "                        y_SD, sr = librosa.load(wav_filepath_SD, sr=16000)\n",
    "                    if os.path.exists(wav_filepath_SN):\n",
    "                        y_SN, _ = librosa.load(wav_filepath_SN, sr=16000)\n",
    "                    \n",
    "                    for i in range(len(data['dialogs'])):\n",
    "                        # json file\n",
    "                        text = data[\"dialogs\"][i][\"speakerText\"]\n",
    "                        start = int(data[\"dialogs\"][i][\"startTime\"])\n",
    "                        end = int(data[\"dialogs\"][i][\"endTime\"]) + 1\n",
    "\n",
    "                        new_data = {\n",
    "                            \"annotations\" : {\n",
    "                                \"note\" : text\n",
    "                            }\n",
    "                        }\n",
    "\n",
    "                        new_json_path_SD = save_dir + filepath[len_root_dir:-5] + '_' + str(i) + '.json'\n",
    "                        new_json_path_SN = new_json_path_SD.replace('SD', 'SN')\n",
    "                        os.makedirs(os.path.split(new_json_path_SD)[0], exist_ok=True)\n",
    "                        if os.path.exists(wav_filepath_SD):\n",
    "                            with open(new_json_path_SD, 'w', encoding='utf-8') as file:\n",
    "                                json.dump(new_data, file, ensure_ascii=False)\n",
    "                        if os.path.exists(wav_filepath_SN):\n",
    "                            with open(new_json_path_SN, 'w', encoding='utf-8') as file:\n",
    "                                json.dump(new_data, file, ensure_ascii=False)\n",
    "\n",
    "                        # wav file (2)\n",
    "                        new_wav_path_SD = save_dir + wav_filepath_SD[len_root_dir:-4] + '_' + str(i) + '.wav'\n",
    "                        new_wav_path_SN = save_dir + wav_filepath_SN[len_root_dir:-4] + '_' + str(i) + '.wav'\n",
    "\n",
    "                        os.makedirs(os.path.split(new_wav_path_SD)[0], exist_ok=True)\n",
    "                        if os.path.exists(wav_filepath_SD):\n",
    "                            sf.write(new_wav_path_SD, y_SD[int(start*16000):int(end*16000 - 1)], sr)\n",
    "                        if os.path.exists(wav_filepath_SN):\n",
    "                            sf.write(new_wav_path_SN, y_SN[int(start*16000):int(end*16000 - 1)], sr)\n",
    "    print(\"Done!\")"
   ]
  },
  {
   "cell_type": "code",
   "execution_count": 3,
   "id": "4f4267ca-116b-43ac-9cd1-81ec3684cce2",
   "metadata": {},
   "outputs": [
    {
     "name": "stdout",
     "output_type": "stream",
     "text": [
      "Processing: D:/01 서울시립대학교/03 5학년 2학기/01 소프트웨어응용/008.소음 환경 음성인식 데이터\n",
      "Processing: D:/01 서울시립대학교/03 5학년 2학기/01 소프트웨어응용/008.소음 환경 음성인식 데이터\\01.데이터\n",
      "Processing: D:/01 서울시립대학교/03 5학년 2학기/01 소프트웨어응용/008.소음 환경 음성인식 데이터\\01.데이터\\1.Training\n",
      "Processing: D:/01 서울시립대학교/03 5학년 2학기/01 소프트웨어응용/008.소음 환경 음성인식 데이터\\01.데이터\\1.Training\\라벨링데이터\n",
      "Processing: D:/01 서울시립대학교/03 5학년 2학기/01 소프트웨어응용/008.소음 환경 음성인식 데이터\\01.데이터\\1.Training\\라벨링데이터\\01.가전소음\n",
      "Processing: D:/01 서울시립대학교/03 5학년 2학기/01 소프트웨어응용/008.소음 환경 음성인식 데이터\\01.데이터\\1.Training\\라벨링데이터\\01.가전소음\\01.세탁기,건조기\n",
      "Processing: D:/01 서울시립대학교/03 5학년 2학기/01 소프트웨어응용/008.소음 환경 음성인식 데이터\\01.데이터\\1.Training\\라벨링데이터\\01.가전소음\\02.청소기\n",
      "Processing: D:/01 서울시립대학교/03 5학년 2학기/01 소프트웨어응용/008.소음 환경 음성인식 데이터\\01.데이터\\1.Training\\라벨링데이터\\01.가전소음\\03.가전소음_기타소음\n",
      "Processing: D:/01 서울시립대학교/03 5학년 2학기/01 소프트웨어응용/008.소음 환경 음성인식 데이터\\01.데이터\\1.Training\\원천데이터\n",
      "Processing: D:/01 서울시립대학교/03 5학년 2학기/01 소프트웨어응용/008.소음 환경 음성인식 데이터\\01.데이터\\1.Training\\원천데이터\\01.가전소음\n",
      "Processing: D:/01 서울시립대학교/03 5학년 2학기/01 소프트웨어응용/008.소음 환경 음성인식 데이터\\01.데이터\\1.Training\\원천데이터\\01.가전소음\\01.세탁기,건조기\n",
      "Processing: D:/01 서울시립대학교/03 5학년 2학기/01 소프트웨어응용/008.소음 환경 음성인식 데이터\\01.데이터\\1.Training\\원천데이터\\01.가전소음\\02.청소기\n",
      "Processing: D:/01 서울시립대학교/03 5학년 2학기/01 소프트웨어응용/008.소음 환경 음성인식 데이터\\01.데이터\\1.Training\\원천데이터\\01.가전소음\\03.가전소음_기타소음\n",
      "Processing: D:/01 서울시립대학교/03 5학년 2학기/01 소프트웨어응용/008.소음 환경 음성인식 데이터\\01.데이터\\2.Validation\n",
      "Processing: D:/01 서울시립대학교/03 5학년 2학기/01 소프트웨어응용/008.소음 환경 음성인식 데이터\\01.데이터\\2.Validation\\라벨링데이터\n",
      "Processing: D:/01 서울시립대학교/03 5학년 2학기/01 소프트웨어응용/008.소음 환경 음성인식 데이터\\01.데이터\\2.Validation\\라벨링데이터\\01.가전소음\n",
      "Processing: D:/01 서울시립대학교/03 5학년 2학기/01 소프트웨어응용/008.소음 환경 음성인식 데이터\\01.데이터\\2.Validation\\라벨링데이터\\01.가전소음\\01.세탁기,건조기\n",
      "Processing: D:/01 서울시립대학교/03 5학년 2학기/01 소프트웨어응용/008.소음 환경 음성인식 데이터\\01.데이터\\2.Validation\\라벨링데이터\\01.가전소음\\02.청소기\n",
      "Processing: D:/01 서울시립대학교/03 5학년 2학기/01 소프트웨어응용/008.소음 환경 음성인식 데이터\\01.데이터\\2.Validation\\라벨링데이터\\01.가전소음\\03.가전소음_기타소음\n",
      "Processing: D:/01 서울시립대학교/03 5학년 2학기/01 소프트웨어응용/008.소음 환경 음성인식 데이터\\01.데이터\\2.Validation\\원천데이터\n",
      "Processing: D:/01 서울시립대학교/03 5학년 2학기/01 소프트웨어응용/008.소음 환경 음성인식 데이터\\01.데이터\\2.Validation\\원천데이터\\01.가전소음\n",
      "Processing: D:/01 서울시립대학교/03 5학년 2학기/01 소프트웨어응용/008.소음 환경 음성인식 데이터\\01.데이터\\2.Validation\\원천데이터\\01.가전소음\\01.세탁기,건조기\n",
      "Processing: D:/01 서울시립대학교/03 5학년 2학기/01 소프트웨어응용/008.소음 환경 음성인식 데이터\\01.데이터\\2.Validation\\원천데이터\\01.가전소음\\02.청소기\n",
      "Processing: D:/01 서울시립대학교/03 5학년 2학기/01 소프트웨어응용/008.소음 환경 음성인식 데이터\\01.데이터\\2.Validation\\원천데이터\\01.가전소음\\03.가전소음_기타소음\n",
      "Done!\n"
     ]
    }
   ],
   "source": [
    "root_directory = \"D:/01 서울시립대학교/03 5학년 2학기/01 소프트웨어응용/008.소음 환경 음성인식 데이터\"\n",
    "save_directory = \"D:/01 서울시립대학교/03 5학년 2학기/01 소프트웨어응용/Saveset\"\n",
    "list_files_and_directories(root_directory, save_directory)"
   ]
  },
  {
   "cell_type": "code",
   "execution_count": null,
   "id": "cc4b2dfc-111d-43d2-887c-8a93d3f89fd9",
   "metadata": {},
   "outputs": [],
   "source": []
  }
 ],
 "metadata": {
  "kernelspec": {
   "display_name": "Python 3 (ipykernel)",
   "language": "python",
   "name": "python3"
  },
  "language_info": {
   "codemirror_mode": {
    "name": "ipython",
    "version": 3
   },
   "file_extension": ".py",
   "mimetype": "text/x-python",
   "name": "python",
   "nbconvert_exporter": "python",
   "pygments_lexer": "ipython3",
   "version": "3.11.4"
  }
 },
 "nbformat": 4,
 "nbformat_minor": 5
}
