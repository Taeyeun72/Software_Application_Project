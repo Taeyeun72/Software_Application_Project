{
 "cells": [
  {
   "cell_type": "code",
   "execution_count": 3,
   "id": "b3a92ecb-681b-4fe0-bc49-2bce657b42f5",
   "metadata": {},
   "outputs": [],
   "source": [
    "import os\n",
    "import random\n",
    "import shutil\n",
    "from tqdm import tqdm"
   ]
  },
  {
   "cell_type": "code",
   "execution_count": 3,
   "id": "c07c9581-0bf6-4085-ae36-0cf3db344e69",
   "metadata": {},
   "outputs": [],
   "source": [
    "def delete_data(directory_path, delete_rate=None, left_num=3000):\n",
    "    file_list = os.listdir(directory_path)\n",
    "    if delete_rate != None:\n",
    "        print(f\"directory path: {directory_path}\")\n",
    "        print(f\"delete rate: {int(len(file_list)*delete_rate)}/{len(file_list)} ({delete_rate*100}%)\")\n",
    "        print(f\"left rate: {len(file_list) - int(len(file_list)*delete_rate)}/{len(file_list)} ({100 - delete_rate*100}%)\")\n",
    "        num_files_to_delete = int(len(file_list)*delete_rate)\n",
    "    else:\n",
    "        print(f\"directory path: {directory_path}\")\n",
    "        print(f\"delete rate: {len(file_list) - left_num}/{len(file_list)}\")\n",
    "        print(f\"left rate: {left_num}/{len(file_list)}\")\n",
    "        num_files_to_delete = int(len(file_list) - left_num)\n",
    "\n",
    "    flag = input(\"Are you sure you want to proceed with the deletion?(yes/no): \")\n",
    "    if flag==\"yes\":\n",
    "        files_to_delete = random.sample(file_list, num_files_to_delete)\n",
    "        \n",
    "        with tqdm(total=num_files_to_delete, desc=\"Deleting files in progress\") as pbar:\n",
    "            for file_name in files_to_delete:\n",
    "                file_path = os.path.join(directory_path, file_name)\n",
    "                if os.path.isfile(file_path):\n",
    "                    os.remove(file_path)\n",
    "                    pbar.update(1)\n",
    "        print(\"Deletion completed\")\n",
    "    else:\n",
    "        print(\"Deletion canceled\")"
   ]
  },
  {
   "cell_type": "code",
   "execution_count": 4,
   "id": "8a041fcb-d002-4e3a-825b-5013d884f8fd",
   "metadata": {},
   "outputs": [],
   "source": [
    "def move(source_folder, destination_folder):\n",
    "    # 원래 폴더 내의 모든 파일 목록 가져오기\n",
    "    file_list = os.listdir(source_folder)\n",
    "    \n",
    "    # 모든 파일을 대상 폴더로 이동\n",
    "    with tqdm(total=len(file_list), desc=\"Moving files in progress\") as pbar:\n",
    "        for filename in file_list:\n",
    "            source_file = os.path.join(source_folder, filename)\n",
    "            destination_file = os.path.join(destination_folder, filename)\n",
    "            shutil.move(source_file, destination_file)\n",
    "            pbar.update(1)"
   ]
  },
  {
   "cell_type": "code",
   "execution_count": 20,
   "id": "d9e7a45f-01ba-4d72-ad2a-e923629be3a0",
   "metadata": {},
   "outputs": [
    {
     "name": "stdout",
     "output_type": "stream",
     "text": [
      "directory path: D:/01 서울시립대학교/03 5학년 2학기/01 소프트웨어응용/위급상황 음성_음향/Training/[원천]1.강제추행(성범죄)_1\n",
      "delete rate: 10462/20925 (50.0%)\n"
     ]
    },
    {
     "name": "stdin",
     "output_type": "stream",
     "text": [
      "Are you sure you want to proceed with the deletion?(yes/no):  yes\n"
     ]
    },
    {
     "name": "stderr",
     "output_type": "stream",
     "text": [
      "Deleting files in progress: 100%|█| 10462/10462 [01:31<00:00, 113.72it/s, deleted=1.강제추행(성범죄)_1213179_label.wav]90it/s]"
     ]
    },
    {
     "name": "stdout",
     "output_type": "stream",
     "text": [
      "Deletion completed\n"
     ]
    },
    {
     "name": "stderr",
     "output_type": "stream",
     "text": [
      "\n"
     ]
    }
   ],
   "source": [
    "delete_data(\"D:/01 서울시립대학교/03 5학년 2학기/01 소프트웨어응용/위급상황 음성_음향/Training/[원천]1.강제추행(성범죄)_1\", 0.5)"
   ]
  },
  {
   "cell_type": "code",
   "execution_count": 23,
   "id": "d7a29798-013b-4faf-82c6-83dbabcb0fd9",
   "metadata": {},
   "outputs": [
    {
     "name": "stdout",
     "output_type": "stream",
     "text": [
      "directory path: D:/01 서울시립대학교/03 5학년 2학기/01 소프트웨어응용/위급상황 음성_음향/Training/[원천]2.강도범죄_1\n",
      "delete rate: 9745/19490 (50.0%)\n"
     ]
    },
    {
     "name": "stdin",
     "output_type": "stream",
     "text": [
      "Are you sure you want to proceed with the deletion?(yes/no):  yes\n"
     ]
    },
    {
     "name": "stderr",
     "output_type": "stream",
     "text": [
      "Deleting files in progress: 100%|██████████████████████████████████████████████████| 9745/9745 [02:53<00:00, 56.15it/s]"
     ]
    },
    {
     "name": "stdout",
     "output_type": "stream",
     "text": [
      "Deletion completed\n"
     ]
    },
    {
     "name": "stderr",
     "output_type": "stream",
     "text": [
      "\n"
     ]
    }
   ],
   "source": [
    "delete_data(\"D:/01 서울시립대학교/03 5학년 2학기/01 소프트웨어응용/위급상황 음성_음향/Training/[원천]2.강도범죄_1\", 0.5)"
   ]
  },
  {
   "cell_type": "code",
   "execution_count": 25,
   "id": "772b37d3-3328-4646-bc54-62754986e926",
   "metadata": {},
   "outputs": [
    {
     "name": "stdout",
     "output_type": "stream",
     "text": [
      "directory path: D:/01 서울시립대학교/03 5학년 2학기/01 소프트웨어응용/위급상황 음성_음향/Training/[원천]3.절도범죄_1\n",
      "delete rate: 7587/12646 (60.0%)\n"
     ]
    },
    {
     "name": "stdin",
     "output_type": "stream",
     "text": [
      "Are you sure you want to proceed with the deletion?(yes/no):  yes\n"
     ]
    },
    {
     "name": "stderr",
     "output_type": "stream",
     "text": [
      "Deleting files in progress: 100%|█████████████████████████████████████████████████| 7587/7587 [00:26<00:00, 284.20it/s]"
     ]
    },
    {
     "name": "stdout",
     "output_type": "stream",
     "text": [
      "Deletion completed\n"
     ]
    },
    {
     "name": "stderr",
     "output_type": "stream",
     "text": [
      "\n"
     ]
    }
   ],
   "source": [
    "delete_data(\"D:/01 서울시립대학교/03 5학년 2학기/01 소프트웨어응용/위급상황 음성_음향/Training/[원천]3.절도범죄_1\", 0.6)"
   ]
  },
  {
   "cell_type": "code",
   "execution_count": 26,
   "id": "6d50ed24-dbc3-4d46-8b85-b4391fdf72f5",
   "metadata": {},
   "outputs": [
    {
     "name": "stdout",
     "output_type": "stream",
     "text": [
      "directory path: D:/01 서울시립대학교/03 5학년 2학기/01 소프트웨어응용/위급상황 음성_음향/Training/[원천]4.폭력범죄_1\n",
      "delete rate: 33289/41612 (80.0%)\n"
     ]
    },
    {
     "name": "stdin",
     "output_type": "stream",
     "text": [
      "Are you sure you want to proceed with the deletion?(yes/no):  yes\n"
     ]
    },
    {
     "name": "stderr",
     "output_type": "stream",
     "text": [
      "Deleting files in progress: 100%|████████████████████████████████████████████████| 33289/33289 [09:20<00:00, 59.39it/s]"
     ]
    },
    {
     "name": "stdout",
     "output_type": "stream",
     "text": [
      "Deletion completed\n"
     ]
    },
    {
     "name": "stderr",
     "output_type": "stream",
     "text": [
      "\n"
     ]
    }
   ],
   "source": [
    "delete_data(\"D:/01 서울시립대학교/03 5학년 2학기/01 소프트웨어응용/위급상황 음성_음향/Training/[원천]4.폭력범죄_1\", 0.8)"
   ]
  },
  {
   "cell_type": "code",
   "execution_count": 28,
   "id": "6f103046-045b-43d4-a2ed-e17b2f8225ad",
   "metadata": {},
   "outputs": [
    {
     "name": "stdout",
     "output_type": "stream",
     "text": [
      "directory path: D:/01 서울시립대학교/03 5학년 2학기/01 소프트웨어응용/위급상황 음성_음향/Training/[원천]5.화재_1\n",
      "delete rate: 37920/47401 (80.0%)\n",
      "left rate: 9481/47401 (20.0%)\n"
     ]
    },
    {
     "name": "stdin",
     "output_type": "stream",
     "text": [
      "Are you sure you want to proceed with the deletion?(yes/no):  yes\n"
     ]
    },
    {
     "name": "stderr",
     "output_type": "stream",
     "text": [
      "Deleting files in progress: 100%|████████████████████████████████████████████████| 37920/37920 [09:31<00:00, 66.40it/s]"
     ]
    },
    {
     "name": "stdout",
     "output_type": "stream",
     "text": [
      "Deletion completed\n"
     ]
    },
    {
     "name": "stderr",
     "output_type": "stream",
     "text": [
      "\n"
     ]
    }
   ],
   "source": [
    "delete_data(\"D:/01 서울시립대학교/03 5학년 2학기/01 소프트웨어응용/위급상황 음성_음향/Training/[원천]5.화재_1\", 0.8)"
   ]
  },
  {
   "cell_type": "code",
   "execution_count": 31,
   "id": "b6e0c775-6ed9-4329-9dac-408c121ee515",
   "metadata": {},
   "outputs": [
    {
     "name": "stdout",
     "output_type": "stream",
     "text": [
      "directory path: D:/01 서울시립대학교/03 5학년 2학기/01 소프트웨어응용/위급상황 음성_음향/Training/[원천]6.갇힘_1\n",
      "delete rate: 6514/13029 (50.0%)\n",
      "left rate: 6515/13029 (50.0%)\n"
     ]
    },
    {
     "name": "stdin",
     "output_type": "stream",
     "text": [
      "Are you sure you want to proceed with the deletion?(yes/no):  yes\n"
     ]
    },
    {
     "name": "stderr",
     "output_type": "stream",
     "text": [
      "Deleting files in progress: 100%|██████████████████████████████████████████████████| 6514/6514 [01:39<00:00, 65.43it/s]"
     ]
    },
    {
     "name": "stdout",
     "output_type": "stream",
     "text": [
      "Deletion completed\n"
     ]
    },
    {
     "name": "stderr",
     "output_type": "stream",
     "text": [
      "\n"
     ]
    }
   ],
   "source": [
    "delete_data(\"D:/01 서울시립대학교/03 5학년 2학기/01 소프트웨어응용/위급상황 음성_음향/Training/[원천]6.갇힘_1\", 0.5)"
   ]
  },
  {
   "cell_type": "code",
   "execution_count": 32,
   "id": "0bd86f33-9798-46ff-997d-367c59db1eb3",
   "metadata": {},
   "outputs": [
    {
     "name": "stdout",
     "output_type": "stream",
     "text": [
      "directory path: D:/01 서울시립대학교/03 5학년 2학기/01 소프트웨어응용/위급상황 음성_음향/Training/[원천]7.응급의료_1\n",
      "delete rate: 39862/46897 (85.0%)\n",
      "left rate: 7035/46897 (15.0%)\n"
     ]
    },
    {
     "name": "stdin",
     "output_type": "stream",
     "text": [
      "Are you sure you want to proceed with the deletion?(yes/no):  yes\n"
     ]
    },
    {
     "name": "stderr",
     "output_type": "stream",
     "text": [
      "Deleting files in progress: 100%|████████████████████████████████████████████████| 39862/39862 [11:20<00:00, 58.56it/s]"
     ]
    },
    {
     "name": "stdout",
     "output_type": "stream",
     "text": [
      "Deletion completed\n"
     ]
    },
    {
     "name": "stderr",
     "output_type": "stream",
     "text": [
      "\n"
     ]
    }
   ],
   "source": [
    "delete_data(\"D:/01 서울시립대학교/03 5학년 2학기/01 소프트웨어응용/위급상황 음성_음향/Training/[원천]7.응급의료_1\", 0.85)"
   ]
  },
  {
   "cell_type": "code",
   "execution_count": 34,
   "id": "4c1746e3-abbf-414f-bb2d-fa19f80d02c1",
   "metadata": {},
   "outputs": [
    {
     "name": "stdout",
     "output_type": "stream",
     "text": [
      "directory path: D:/01 서울시립대학교/03 5학년 2학기/01 소프트웨어응용/위급상황 음성_음향/Training/[원천]8.전기사고_1\n",
      "delete rate: 30824/38530 (80.0%)\n",
      "left rate: 7706/38530 (20.0%)\n"
     ]
    },
    {
     "name": "stdin",
     "output_type": "stream",
     "text": [
      "Are you sure you want to proceed with the deletion?(yes/no):  yes\n"
     ]
    },
    {
     "name": "stderr",
     "output_type": "stream",
     "text": [
      "Deleting files in progress: 100%|████████████████████████████████████████████████| 30824/30824 [08:21<00:00, 61.44it/s]"
     ]
    },
    {
     "name": "stdout",
     "output_type": "stream",
     "text": [
      "Deletion completed\n"
     ]
    },
    {
     "name": "stderr",
     "output_type": "stream",
     "text": [
      "\n"
     ]
    }
   ],
   "source": [
    "delete_data(\"D:/01 서울시립대학교/03 5학년 2학기/01 소프트웨어응용/위급상황 음성_음향/Training/[원천]8.전기사고_1\", 0.8)"
   ]
  },
  {
   "cell_type": "code",
   "execution_count": 37,
   "id": "3c4df374-5947-47fa-9a6c-db59302696e9",
   "metadata": {},
   "outputs": [
    {
     "name": "stdout",
     "output_type": "stream",
     "text": [
      "directory path: D:/01 서울시립대학교/03 5학년 2학기/01 소프트웨어응용/위급상황 음성_음향/Training/[원천]9.가스사고_1\n",
      "delete rate: 14082/17603 (80.0%)\n",
      "left rate: 3521/17603 (20.0%)\n"
     ]
    },
    {
     "name": "stdin",
     "output_type": "stream",
     "text": [
      "Are you sure you want to proceed with the deletion?(yes/no):  yes\n"
     ]
    },
    {
     "name": "stderr",
     "output_type": "stream",
     "text": [
      "Deleting files in progress: 100%|████████████████████████████████████████████████| 14082/14082 [06:50<00:00, 34.27it/s]"
     ]
    },
    {
     "name": "stdout",
     "output_type": "stream",
     "text": [
      "Deletion completed\n"
     ]
    },
    {
     "name": "stderr",
     "output_type": "stream",
     "text": [
      "\n"
     ]
    }
   ],
   "source": [
    "delete_data(\"D:/01 서울시립대학교/03 5학년 2학기/01 소프트웨어응용/위급상황 음성_음향/Training/[원천]9.가스사고_1\", 0.8)"
   ]
  },
  {
   "cell_type": "code",
   "execution_count": 38,
   "id": "5a3c2c64-6907-4110-b018-e93bffdcc6bf",
   "metadata": {},
   "outputs": [
    {
     "name": "stdout",
     "output_type": "stream",
     "text": [
      "directory path: D:/01 서울시립대학교/03 5학년 2학기/01 소프트웨어응용/위급상황 음성_음향/Training/[원천]10.낙상_1\n",
      "delete rate: 9161/18322 (50.0%)\n",
      "left rate: 9161/18322 (50.0%)\n"
     ]
    },
    {
     "name": "stdin",
     "output_type": "stream",
     "text": [
      "Are you sure you want to proceed with the deletion?(yes/no):  yes\n"
     ]
    },
    {
     "name": "stderr",
     "output_type": "stream",
     "text": [
      "Deleting files in progress: 100%|██████████████████████████████████████████████████| 9161/9161 [02:00<00:00, 76.08it/s]"
     ]
    },
    {
     "name": "stdout",
     "output_type": "stream",
     "text": [
      "Deletion completed\n"
     ]
    },
    {
     "name": "stderr",
     "output_type": "stream",
     "text": [
      "\n"
     ]
    }
   ],
   "source": [
    "delete_data(\"D:/01 서울시립대학교/03 5학년 2학기/01 소프트웨어응용/위급상황 음성_음향/Training/[원천]10.낙상_1\", 0.5)"
   ]
  },
  {
   "cell_type": "code",
   "execution_count": 39,
   "id": "aefff06e-09dd-4dac-9c7d-65d00c1763a5",
   "metadata": {},
   "outputs": [
    {
     "name": "stdout",
     "output_type": "stream",
     "text": [
      "directory path: D:/01 서울시립대학교/03 5학년 2학기/01 소프트웨어응용/위급상황 음성_음향/Training/[원천]11.붕괴사고_1\n",
      "delete rate: 20783/29691 (70.0%)\n",
      "left rate: 8908/29691 (30.0%)\n"
     ]
    },
    {
     "name": "stdin",
     "output_type": "stream",
     "text": [
      "Are you sure you want to proceed with the deletion?(yes/no):  yes\n"
     ]
    },
    {
     "name": "stderr",
     "output_type": "stream",
     "text": [
      "Deleting files in progress: 100%|████████████████████████████████████████████████| 20783/20783 [06:54<00:00, 50.09it/s]"
     ]
    },
    {
     "name": "stdout",
     "output_type": "stream",
     "text": [
      "Deletion completed\n"
     ]
    },
    {
     "name": "stderr",
     "output_type": "stream",
     "text": [
      "\n"
     ]
    }
   ],
   "source": [
    "delete_data(\"D:/01 서울시립대학교/03 5학년 2학기/01 소프트웨어응용/위급상황 음성_음향/Training/[원천]11.붕괴사고_1\", 0.7)"
   ]
  },
  {
   "cell_type": "code",
   "execution_count": 40,
   "id": "36093bd8-aaf7-4cff-b54b-a4d8b5dfebfa",
   "metadata": {},
   "outputs": [
    {
     "name": "stdout",
     "output_type": "stream",
     "text": [
      "directory path: D:/01 서울시립대학교/03 5학년 2학기/01 소프트웨어응용/위급상황 음성_음향/Training/[원천]12.태풍-강풍_1\n",
      "delete rate: 16344/23350 (70.0%)\n",
      "left rate: 7006/23350 (30.0%)\n"
     ]
    },
    {
     "name": "stdin",
     "output_type": "stream",
     "text": [
      "Are you sure you want to proceed with the deletion?(yes/no):  yes\n"
     ]
    },
    {
     "name": "stderr",
     "output_type": "stream",
     "text": [
      "Deleting files in progress: 100%|████████████████████████████████████████████████| 16344/16344 [03:55<00:00, 69.54it/s]"
     ]
    },
    {
     "name": "stdout",
     "output_type": "stream",
     "text": [
      "Deletion completed\n"
     ]
    },
    {
     "name": "stderr",
     "output_type": "stream",
     "text": [
      "\n"
     ]
    }
   ],
   "source": [
    "delete_data(\"D:/01 서울시립대학교/03 5학년 2학기/01 소프트웨어응용/위급상황 음성_음향/Training/[원천]12.태풍-강풍_1\", 0.7)"
   ]
  },
  {
   "cell_type": "code",
   "execution_count": 41,
   "id": "e4c90521-525e-4e1f-bd79-9d7736f44e0a",
   "metadata": {},
   "outputs": [
    {
     "name": "stdout",
     "output_type": "stream",
     "text": [
      "directory path: D:/01 서울시립대학교/03 5학년 2학기/01 소프트웨어응용/위급상황 음성_음향/Training/[원천]13.지진_1\n",
      "delete rate: 19768/28240 (70.0%)\n",
      "left rate: 8472/28240 (30.0%)\n"
     ]
    },
    {
     "name": "stdin",
     "output_type": "stream",
     "text": [
      "Are you sure you want to proceed with the deletion?(yes/no):  yes\n"
     ]
    },
    {
     "name": "stderr",
     "output_type": "stream",
     "text": [
      "Deleting files in progress: 100%|████████████████████████████████████████████████| 19768/19768 [05:53<00:00, 55.94it/s]"
     ]
    },
    {
     "name": "stdout",
     "output_type": "stream",
     "text": [
      "Deletion completed\n"
     ]
    },
    {
     "name": "stderr",
     "output_type": "stream",
     "text": [
      "\n"
     ]
    }
   ],
   "source": [
    "delete_data(\"D:/01 서울시립대학교/03 5학년 2학기/01 소프트웨어응용/위급상황 음성_음향/Training/[원천]13.지진_1\", 0.7)"
   ]
  },
  {
   "cell_type": "code",
   "execution_count": 42,
   "id": "9eaeec9f-2d38-4c83-989e-43be4f7023e7",
   "metadata": {},
   "outputs": [
    {
     "name": "stdout",
     "output_type": "stream",
     "text": [
      "directory path: D:/01 서울시립대학교/03 5학년 2학기/01 소프트웨어응용/위급상황 음성_음향/Training/[원천]14.도움요청_1\n",
      "delete rate: 32588/40735 (80.0%)\n",
      "left rate: 8147/40735 (20.0%)\n"
     ]
    },
    {
     "name": "stdin",
     "output_type": "stream",
     "text": [
      "Are you sure you want to proceed with the deletion?(yes/no):  yes\n"
     ]
    },
    {
     "name": "stderr",
     "output_type": "stream",
     "text": [
      "Deleting files in progress: 100%|████████████████████████████████████████████████| 32588/32588 [08:58<00:00, 60.48it/s]"
     ]
    },
    {
     "name": "stdout",
     "output_type": "stream",
     "text": [
      "Deletion completed\n"
     ]
    },
    {
     "name": "stderr",
     "output_type": "stream",
     "text": [
      "\n"
     ]
    }
   ],
   "source": [
    "delete_data(\"D:/01 서울시립대학교/03 5학년 2학기/01 소프트웨어응용/위급상황 음성_음향/Training/[원천]14.도움요청_1\", 0.8)"
   ]
  },
  {
   "cell_type": "code",
   "execution_count": 44,
   "id": "8e94e1bc-293b-4104-bf16-79e1fea0b229",
   "metadata": {},
   "outputs": [
    {
     "name": "stdout",
     "output_type": "stream",
     "text": [
      "directory path: D:/01 서울시립대학교/03 5학년 2학기/01 소프트웨어응용/위급상황 음성_음향/Training/[원천]15.실내_1\n",
      "delete rate: 4972/6215 (80.0%)\n",
      "left rate: 1243/6215 (20.0%)\n"
     ]
    },
    {
     "name": "stdin",
     "output_type": "stream",
     "text": [
      "Are you sure you want to proceed with the deletion?(yes/no):  yes\n"
     ]
    },
    {
     "name": "stderr",
     "output_type": "stream",
     "text": [
      "Deleting files in progress: 100%|██████████████████████████████████████████████████| 4972/4972 [04:35<00:00, 18.05it/s]"
     ]
    },
    {
     "name": "stdout",
     "output_type": "stream",
     "text": [
      "Deletion completed\n"
     ]
    },
    {
     "name": "stderr",
     "output_type": "stream",
     "text": [
      "\n"
     ]
    }
   ],
   "source": [
    "delete_data(\"D:/01 서울시립대학교/03 5학년 2학기/01 소프트웨어응용/위급상황 음성_음향/Training/[원천]15.실내_1\", 0.8)"
   ]
  },
  {
   "cell_type": "code",
   "execution_count": 46,
   "id": "04f4f09b-2322-4f85-b636-178c19cd78b1",
   "metadata": {},
   "outputs": [
    {
     "name": "stdout",
     "output_type": "stream",
     "text": [
      "directory path: D:/01 서울시립대학교/03 5학년 2학기/01 소프트웨어응용/위급상황 음성_음향/Training/[원천]16.실외_1\n",
      "delete rate: 3001/4288 (70.0%)\n",
      "left rate: 1287/4288 (30.0%)\n"
     ]
    },
    {
     "name": "stdin",
     "output_type": "stream",
     "text": [
      "Are you sure you want to proceed with the deletion?(yes/no):  yes\n"
     ]
    },
    {
     "name": "stderr",
     "output_type": "stream",
     "text": [
      "Deleting files in progress: 100%|██████████████████████████████████████████████████| 3001/3001 [02:35<00:00, 19.35it/s]"
     ]
    },
    {
     "name": "stdout",
     "output_type": "stream",
     "text": [
      "Deletion completed\n"
     ]
    },
    {
     "name": "stderr",
     "output_type": "stream",
     "text": [
      "\n"
     ]
    }
   ],
   "source": [
    "delete_data(\"D:/01 서울시립대학교/03 5학년 2학기/01 소프트웨어응용/위급상황 음성_음향/Training/[원천]16.실외_1\", 0.7)"
   ]
  },
  {
   "cell_type": "code",
   "execution_count": 49,
   "id": "c7ae6a14-8a7a-4476-b026-057f2bdba918",
   "metadata": {},
   "outputs": [
    {
     "name": "stdout",
     "output_type": "stream",
     "text": [
      "directory path: D:/01 서울시립대학교/03 5학년 2학기/01 소프트웨어응용/위급상황 음성_음향/Training/[원천]1.강제추행(성범죄)_1\n",
      "delete rate: 7463/10463\n",
      "left rate: 3000/10463\n"
     ]
    },
    {
     "name": "stdin",
     "output_type": "stream",
     "text": [
      "Are you sure you want to proceed with the deletion?(yes/no):  yes\n"
     ]
    },
    {
     "name": "stderr",
     "output_type": "stream",
     "text": [
      "Deleting files in progress: 100%|█████████████████████████████████████████████████| 7463/7463 [01:10<00:00, 105.83it/s]"
     ]
    },
    {
     "name": "stdout",
     "output_type": "stream",
     "text": [
      "Deletion completed\n"
     ]
    },
    {
     "name": "stderr",
     "output_type": "stream",
     "text": [
      "\n"
     ]
    }
   ],
   "source": [
    "delete_data(\"D:/01 서울시립대학교/03 5학년 2학기/01 소프트웨어응용/위급상황 음성_음향/Training/[원천]1.강제추행(성범죄)_1\", None, 3000)"
   ]
  },
  {
   "cell_type": "code",
   "execution_count": 50,
   "id": "cd3e112b-df55-4432-bf2d-335a6ee09959",
   "metadata": {},
   "outputs": [
    {
     "name": "stdout",
     "output_type": "stream",
     "text": [
      "directory path: D:/01 서울시립대학교/03 5학년 2학기/01 소프트웨어응용/위급상황 음성_음향/Training/[원천]2.강도범죄_1\n",
      "delete rate: 6745/9745\n",
      "left rate: 3000/9745\n"
     ]
    },
    {
     "name": "stdin",
     "output_type": "stream",
     "text": [
      "Are you sure you want to proceed with the deletion?(yes/no):  yes\n"
     ]
    },
    {
     "name": "stderr",
     "output_type": "stream",
     "text": [
      "Deleting files in progress: 100%|██████████████████████████████████████████████████| 6745/6745 [01:13<00:00, 92.14it/s]"
     ]
    },
    {
     "name": "stdout",
     "output_type": "stream",
     "text": [
      "Deletion completed\n"
     ]
    },
    {
     "name": "stderr",
     "output_type": "stream",
     "text": [
      "\n"
     ]
    }
   ],
   "source": [
    "delete_data(\"D:/01 서울시립대학교/03 5학년 2학기/01 소프트웨어응용/위급상황 음성_음향/Training/[원천]2.강도범죄_1\", None, 3000)"
   ]
  },
  {
   "cell_type": "code",
   "execution_count": 51,
   "id": "c252736a-66e8-4851-818d-695f7283d687",
   "metadata": {},
   "outputs": [
    {
     "name": "stdout",
     "output_type": "stream",
     "text": [
      "directory path: D:/01 서울시립대학교/03 5학년 2학기/01 소프트웨어응용/위급상황 음성_음향/Training/[원천]3.절도범죄_1\n",
      "delete rate: 2059/5059\n",
      "left rate: 3000/5059\n"
     ]
    },
    {
     "name": "stdin",
     "output_type": "stream",
     "text": [
      "Are you sure you want to proceed with the deletion?(yes/no):  yes\n"
     ]
    },
    {
     "name": "stderr",
     "output_type": "stream",
     "text": [
      "Deleting files in progress: 100%|█████████████████████████████████████████████████| 2059/2059 [00:13<00:00, 150.21it/s]"
     ]
    },
    {
     "name": "stdout",
     "output_type": "stream",
     "text": [
      "Deletion completed\n"
     ]
    },
    {
     "name": "stderr",
     "output_type": "stream",
     "text": [
      "\n"
     ]
    }
   ],
   "source": [
    "delete_data(\"D:/01 서울시립대학교/03 5학년 2학기/01 소프트웨어응용/위급상황 음성_음향/Training/[원천]3.절도범죄_1\", None, 3000)"
   ]
  },
  {
   "cell_type": "code",
   "execution_count": 52,
   "id": "412d511b-5719-4db8-83cf-a1e8016c9abd",
   "metadata": {},
   "outputs": [
    {
     "name": "stdout",
     "output_type": "stream",
     "text": [
      "directory path: D:/01 서울시립대학교/03 5학년 2학기/01 소프트웨어응용/위급상황 음성_음향/Training/[원천]4.폭력범죄_1\n",
      "delete rate: 5323/8323\n",
      "left rate: 3000/8323\n"
     ]
    },
    {
     "name": "stdin",
     "output_type": "stream",
     "text": [
      "Are you sure you want to proceed with the deletion?(yes/no):  yes\n"
     ]
    },
    {
     "name": "stderr",
     "output_type": "stream",
     "text": [
      "Deleting files in progress: 100%|██████████████████████████████████████████████████| 5323/5323 [01:25<00:00, 62.04it/s]"
     ]
    },
    {
     "name": "stdout",
     "output_type": "stream",
     "text": [
      "Deletion completed\n"
     ]
    },
    {
     "name": "stderr",
     "output_type": "stream",
     "text": [
      "\n"
     ]
    }
   ],
   "source": [
    "delete_data(\"D:/01 서울시립대학교/03 5학년 2학기/01 소프트웨어응용/위급상황 음성_음향/Training/[원천]4.폭력범죄_1\", None, 3000)"
   ]
  },
  {
   "cell_type": "code",
   "execution_count": 53,
   "id": "1ef22b5c-bab5-4ce2-8544-b82019543f63",
   "metadata": {},
   "outputs": [
    {
     "name": "stdout",
     "output_type": "stream",
     "text": [
      "directory path: D:/01 서울시립대학교/03 5학년 2학기/01 소프트웨어응용/위급상황 음성_음향/Training/[원천]5.화재_1\n",
      "delete rate: 6481/9481\n",
      "left rate: 3000/9481\n"
     ]
    },
    {
     "name": "stdin",
     "output_type": "stream",
     "text": [
      "Are you sure you want to proceed with the deletion?(yes/no):  yes\n"
     ]
    },
    {
     "name": "stderr",
     "output_type": "stream",
     "text": [
      "Deleting files in progress: 100%|██████████████████████████████████████████████████| 6481/6481 [01:39<00:00, 65.32it/s]"
     ]
    },
    {
     "name": "stdout",
     "output_type": "stream",
     "text": [
      "Deletion completed\n"
     ]
    },
    {
     "name": "stderr",
     "output_type": "stream",
     "text": [
      "\n"
     ]
    }
   ],
   "source": [
    "delete_data(\"D:/01 서울시립대학교/03 5학년 2학기/01 소프트웨어응용/위급상황 음성_음향/Training/[원천]5.화재_1\", None, 3000)"
   ]
  },
  {
   "cell_type": "code",
   "execution_count": 54,
   "id": "fc704f31-552d-4d24-80c8-fbb824a9f034",
   "metadata": {},
   "outputs": [
    {
     "name": "stdout",
     "output_type": "stream",
     "text": [
      "directory path: D:/01 서울시립대학교/03 5학년 2학기/01 소프트웨어응용/위급상황 음성_음향/Training/[원천]6.갇힘_1\n",
      "delete rate: 3515/6515\n",
      "left rate: 3000/6515\n"
     ]
    },
    {
     "name": "stdin",
     "output_type": "stream",
     "text": [
      "Are you sure you want to proceed with the deletion?(yes/no):  yes\n"
     ]
    },
    {
     "name": "stderr",
     "output_type": "stream",
     "text": [
      "Deleting files in progress: 100%|██████████████████████████████████████████████████| 3515/3515 [00:55<00:00, 63.81it/s]"
     ]
    },
    {
     "name": "stdout",
     "output_type": "stream",
     "text": [
      "Deletion completed\n"
     ]
    },
    {
     "name": "stderr",
     "output_type": "stream",
     "text": [
      "\n"
     ]
    }
   ],
   "source": [
    "delete_data(\"D:/01 서울시립대학교/03 5학년 2학기/01 소프트웨어응용/위급상황 음성_음향/Training/[원천]6.갇힘_1\", None, 3000)"
   ]
  },
  {
   "cell_type": "code",
   "execution_count": 55,
   "id": "81a2fcae-926b-4e8b-9ff7-c2b2544c9857",
   "metadata": {},
   "outputs": [
    {
     "name": "stdout",
     "output_type": "stream",
     "text": [
      "directory path: D:/01 서울시립대학교/03 5학년 2학기/01 소프트웨어응용/위급상황 음성_음향/Training/[원천]7.응급의료_1\n",
      "delete rate: 4035/7035\n",
      "left rate: 3000/7035\n"
     ]
    },
    {
     "name": "stdin",
     "output_type": "stream",
     "text": [
      "Are you sure you want to proceed with the deletion?(yes/no):  yes\n"
     ]
    },
    {
     "name": "stderr",
     "output_type": "stream",
     "text": [
      "Deleting files in progress: 100%|██████████████████████████████████████████████████| 4035/4035 [01:10<00:00, 57.49it/s]"
     ]
    },
    {
     "name": "stdout",
     "output_type": "stream",
     "text": [
      "Deletion completed\n"
     ]
    },
    {
     "name": "stderr",
     "output_type": "stream",
     "text": [
      "\n"
     ]
    }
   ],
   "source": [
    "delete_data(\"D:/01 서울시립대학교/03 5학년 2학기/01 소프트웨어응용/위급상황 음성_음향/Training/[원천]7.응급의료_1\", None, 3000)"
   ]
  },
  {
   "cell_type": "code",
   "execution_count": 56,
   "id": "b5301397-6deb-4f19-8b23-e06d994cd97d",
   "metadata": {},
   "outputs": [
    {
     "name": "stdout",
     "output_type": "stream",
     "text": [
      "directory path: D:/01 서울시립대학교/03 5학년 2학기/01 소프트웨어응용/위급상황 음성_음향/Training/[원천]8.전기사고_1\n",
      "delete rate: 4706/7706\n",
      "left rate: 3000/7706\n"
     ]
    },
    {
     "name": "stdin",
     "output_type": "stream",
     "text": [
      "Are you sure you want to proceed with the deletion?(yes/no):  yes\n"
     ]
    },
    {
     "name": "stderr",
     "output_type": "stream",
     "text": [
      "Deleting files in progress: 100%|██████████████████████████████████████████████████| 4706/4706 [01:17<00:00, 60.50it/s]"
     ]
    },
    {
     "name": "stdout",
     "output_type": "stream",
     "text": [
      "Deletion completed\n"
     ]
    },
    {
     "name": "stderr",
     "output_type": "stream",
     "text": [
      "\n"
     ]
    }
   ],
   "source": [
    "delete_data(\"D:/01 서울시립대학교/03 5학년 2학기/01 소프트웨어응용/위급상황 음성_음향/Training/[원천]8.전기사고_1\", None, 3000)"
   ]
  },
  {
   "cell_type": "code",
   "execution_count": 57,
   "id": "dcd663d8-25f2-416d-af0f-f690c72f79b9",
   "metadata": {},
   "outputs": [
    {
     "name": "stdout",
     "output_type": "stream",
     "text": [
      "directory path: D:/01 서울시립대학교/03 5학년 2학기/01 소프트웨어응용/위급상황 음성_음향/Training/[원천]9.가스사고_1\n",
      "delete rate: 521/3521\n",
      "left rate: 3000/3521\n"
     ]
    },
    {
     "name": "stdin",
     "output_type": "stream",
     "text": [
      "Are you sure you want to proceed with the deletion?(yes/no):  yes\n"
     ]
    },
    {
     "name": "stderr",
     "output_type": "stream",
     "text": [
      "Deleting files in progress: 100%|████████████████████████████████████████████████████| 521/521 [00:14<00:00, 34.99it/s]"
     ]
    },
    {
     "name": "stdout",
     "output_type": "stream",
     "text": [
      "Deletion completed\n"
     ]
    },
    {
     "name": "stderr",
     "output_type": "stream",
     "text": [
      "\n"
     ]
    }
   ],
   "source": [
    "delete_data(\"D:/01 서울시립대학교/03 5학년 2학기/01 소프트웨어응용/위급상황 음성_음향/Training/[원천]9.가스사고_1\", None, 3000)"
   ]
  },
  {
   "cell_type": "code",
   "execution_count": 58,
   "id": "0619ee6b-b23c-43d9-b8ef-aeb91b6e993e",
   "metadata": {},
   "outputs": [
    {
     "name": "stdout",
     "output_type": "stream",
     "text": [
      "directory path: D:/01 서울시립대학교/03 5학년 2학기/01 소프트웨어응용/위급상황 음성_음향/Training/[원천]10.낙상_1\n",
      "delete rate: 6161/9161\n",
      "left rate: 3000/9161\n"
     ]
    },
    {
     "name": "stdin",
     "output_type": "stream",
     "text": [
      "Are you sure you want to proceed with the deletion?(yes/no):  yes\n"
     ]
    },
    {
     "name": "stderr",
     "output_type": "stream",
     "text": [
      "Deleting files in progress: 100%|██████████████████████████████████████████████████| 6161/6161 [01:18<00:00, 77.99it/s]"
     ]
    },
    {
     "name": "stdout",
     "output_type": "stream",
     "text": [
      "Deletion completed\n"
     ]
    },
    {
     "name": "stderr",
     "output_type": "stream",
     "text": [
      "\n"
     ]
    }
   ],
   "source": [
    "delete_data(\"D:/01 서울시립대학교/03 5학년 2학기/01 소프트웨어응용/위급상황 음성_음향/Training/[원천]10.낙상_1\", None, 3000)"
   ]
  },
  {
   "cell_type": "code",
   "execution_count": 59,
   "id": "571b0aac-61e3-498e-a80c-7686ee451214",
   "metadata": {},
   "outputs": [
    {
     "name": "stdout",
     "output_type": "stream",
     "text": [
      "directory path: D:/01 서울시립대학교/03 5학년 2학기/01 소프트웨어응용/위급상황 음성_음향/Training/[원천]11.붕괴사고_1\n",
      "delete rate: 5908/8908\n",
      "left rate: 3000/8908\n"
     ]
    },
    {
     "name": "stdin",
     "output_type": "stream",
     "text": [
      "Are you sure you want to proceed with the deletion?(yes/no):  yes\n"
     ]
    },
    {
     "name": "stderr",
     "output_type": "stream",
     "text": [
      "Deleting files in progress: 100%|██████████████████████████████████████████████████| 5908/5908 [01:39<00:00, 59.29it/s]"
     ]
    },
    {
     "name": "stdout",
     "output_type": "stream",
     "text": [
      "Deletion completed\n"
     ]
    },
    {
     "name": "stderr",
     "output_type": "stream",
     "text": [
      "\n"
     ]
    }
   ],
   "source": [
    "delete_data(\"D:/01 서울시립대학교/03 5학년 2학기/01 소프트웨어응용/위급상황 음성_음향/Training/[원천]11.붕괴사고_1\", None, 3000)"
   ]
  },
  {
   "cell_type": "code",
   "execution_count": 60,
   "id": "1d795738-7d3c-43bc-bd44-87a1a985af8b",
   "metadata": {},
   "outputs": [
    {
     "name": "stdout",
     "output_type": "stream",
     "text": [
      "directory path: D:/01 서울시립대학교/03 5학년 2학기/01 소프트웨어응용/위급상황 음성_음향/Training/[원천]12.태풍-강풍_1\n",
      "delete rate: 4006/7006\n",
      "left rate: 3000/7006\n"
     ]
    },
    {
     "name": "stdin",
     "output_type": "stream",
     "text": [
      "Are you sure you want to proceed with the deletion?(yes/no):  yes\n"
     ]
    },
    {
     "name": "stderr",
     "output_type": "stream",
     "text": [
      "Deleting files in progress: 100%|██████████████████████████████████████████████████| 4006/4006 [00:57<00:00, 69.69it/s]"
     ]
    },
    {
     "name": "stdout",
     "output_type": "stream",
     "text": [
      "Deletion completed\n"
     ]
    },
    {
     "name": "stderr",
     "output_type": "stream",
     "text": [
      "\n"
     ]
    }
   ],
   "source": [
    "delete_data(\"D:/01 서울시립대학교/03 5학년 2학기/01 소프트웨어응용/위급상황 음성_음향/Training/[원천]12.태풍-강풍_1\", None, 3000)"
   ]
  },
  {
   "cell_type": "code",
   "execution_count": 61,
   "id": "b9ff36f0-a754-443e-8d7c-b5951b7d3ecb",
   "metadata": {},
   "outputs": [
    {
     "name": "stdout",
     "output_type": "stream",
     "text": [
      "directory path: D:/01 서울시립대학교/03 5학년 2학기/01 소프트웨어응용/위급상황 음성_음향/Training/[원천]13.지진_1\n",
      "delete rate: 5472/8472\n",
      "left rate: 3000/8472\n"
     ]
    },
    {
     "name": "stdin",
     "output_type": "stream",
     "text": [
      "Are you sure you want to proceed with the deletion?(yes/no):  yes\n"
     ]
    },
    {
     "name": "stderr",
     "output_type": "stream",
     "text": [
      "Deleting files in progress: 100%|██████████████████████████████████████████████████| 5472/5472 [01:35<00:00, 57.35it/s]"
     ]
    },
    {
     "name": "stdout",
     "output_type": "stream",
     "text": [
      "Deletion completed\n"
     ]
    },
    {
     "name": "stderr",
     "output_type": "stream",
     "text": [
      "\n"
     ]
    }
   ],
   "source": [
    "delete_data(\"D:/01 서울시립대학교/03 5학년 2학기/01 소프트웨어응용/위급상황 음성_음향/Training/[원천]13.지진_1\", None, 3000)"
   ]
  },
  {
   "cell_type": "code",
   "execution_count": 62,
   "id": "a3735b95-bdc4-40df-bc65-3f0f68e48bfd",
   "metadata": {},
   "outputs": [
    {
     "name": "stdout",
     "output_type": "stream",
     "text": [
      "directory path: D:/01 서울시립대학교/03 5학년 2학기/01 소프트웨어응용/위급상황 음성_음향/Training/[원천]14.도움요청_1\n",
      "delete rate: 5147/8147\n",
      "left rate: 3000/8147\n"
     ]
    },
    {
     "name": "stdin",
     "output_type": "stream",
     "text": [
      "Are you sure you want to proceed with the deletion?(yes/no):  yes\n"
     ]
    },
    {
     "name": "stderr",
     "output_type": "stream",
     "text": [
      "Deleting files in progress: 100%|██████████████████████████████████████████████████| 5147/5147 [01:25<00:00, 60.51it/s]"
     ]
    },
    {
     "name": "stdout",
     "output_type": "stream",
     "text": [
      "Deletion completed\n"
     ]
    },
    {
     "name": "stderr",
     "output_type": "stream",
     "text": [
      "\n"
     ]
    }
   ],
   "source": [
    "delete_data(\"D:/01 서울시립대학교/03 5학년 2학기/01 소프트웨어응용/위급상황 음성_음향/Training/[원천]14.도움요청_1\", None, 3000)"
   ]
  },
  {
   "cell_type": "code",
   "execution_count": 63,
   "id": "934e721e-02c8-4c38-8b42-a8e9bb6bd2b9",
   "metadata": {},
   "outputs": [
    {
     "name": "stdout",
     "output_type": "stream",
     "text": [
      "directory path: D:/01 서울시립대학교/03 5학년 2학기/01 소프트웨어응용/위급상황 음성_음향/Training/[원천]15.실내_1\n",
      "delete rate: 243/1243\n",
      "left rate: 1000/1243\n"
     ]
    },
    {
     "name": "stdin",
     "output_type": "stream",
     "text": [
      "Are you sure you want to proceed with the deletion?(yes/no):  yes\n"
     ]
    },
    {
     "name": "stderr",
     "output_type": "stream",
     "text": [
      "Deleting files in progress: 100%|████████████████████████████████████████████████████| 243/243 [00:12<00:00, 19.26it/s]"
     ]
    },
    {
     "name": "stdout",
     "output_type": "stream",
     "text": [
      "Deletion completed\n"
     ]
    },
    {
     "name": "stderr",
     "output_type": "stream",
     "text": [
      "\n"
     ]
    }
   ],
   "source": [
    "delete_data(\"D:/01 서울시립대학교/03 5학년 2학기/01 소프트웨어응용/위급상황 음성_음향/Training/[원천]15.실내_1\", None, 1000)"
   ]
  },
  {
   "cell_type": "code",
   "execution_count": 64,
   "id": "66b19454-fd8d-41f0-9628-e1f6e9757198",
   "metadata": {},
   "outputs": [
    {
     "name": "stdout",
     "output_type": "stream",
     "text": [
      "directory path: D:/01 서울시립대학교/03 5학년 2학기/01 소프트웨어응용/위급상황 음성_음향/Training/[원천]16.실외_1\n",
      "delete rate: 287/1287\n",
      "left rate: 1000/1287\n"
     ]
    },
    {
     "name": "stdin",
     "output_type": "stream",
     "text": [
      "Are you sure you want to proceed with the deletion?(yes/no):  yes\n"
     ]
    },
    {
     "name": "stderr",
     "output_type": "stream",
     "text": [
      "Deleting files in progress: 100%|████████████████████████████████████████████████████| 287/287 [00:14<00:00, 19.46it/s]"
     ]
    },
    {
     "name": "stdout",
     "output_type": "stream",
     "text": [
      "Deletion completed\n"
     ]
    },
    {
     "name": "stderr",
     "output_type": "stream",
     "text": [
      "\n"
     ]
    }
   ],
   "source": [
    "delete_data(\"D:/01 서울시립대학교/03 5학년 2학기/01 소프트웨어응용/위급상황 음성_음향/Training/[원천]16.실외_1\", None, 1000)"
   ]
  },
  {
   "cell_type": "code",
   "execution_count": 66,
   "id": "0dc20041-a4ea-48a2-adea-8cb8a5db25b6",
   "metadata": {},
   "outputs": [
    {
     "name": "stdout",
     "output_type": "stream",
     "text": [
      "directory path: D:/01 서울시립대학교/03 5학년 2학기/01 소프트웨어응용/위급상황 음성_음향/Validation/[원천]1.강제추행(성범죄)_1\n",
      "delete rate: 257/757\n",
      "left rate: 500/757\n"
     ]
    },
    {
     "name": "stdin",
     "output_type": "stream",
     "text": [
      "Are you sure you want to proceed with the deletion?(yes/no):  yes\n"
     ]
    },
    {
     "name": "stderr",
     "output_type": "stream",
     "text": [
      "Deleting files in progress: 100%|███████████████████████████████████████████████████| 257/257 [00:02<00:00, 124.97it/s]"
     ]
    },
    {
     "name": "stdout",
     "output_type": "stream",
     "text": [
      "Deletion completed\n"
     ]
    },
    {
     "name": "stderr",
     "output_type": "stream",
     "text": [
      "\n"
     ]
    }
   ],
   "source": [
    "delete_data(\"D:/01 서울시립대학교/03 5학년 2학기/01 소프트웨어응용/위급상황 음성_음향/Validation/[원천]1.강제추행(성범죄)_1\", None, 500)"
   ]
  },
  {
   "cell_type": "code",
   "execution_count": 67,
   "id": "5d04551f-a238-4db9-9c53-8131a7dfdf97",
   "metadata": {},
   "outputs": [
    {
     "name": "stdout",
     "output_type": "stream",
     "text": [
      "directory path: D:/01 서울시립대학교/03 5학년 2학기/01 소프트웨어응용/위급상황 음성_음향/Validation/[원천]2.강도범죄_1\n",
      "delete rate: 2883/3383\n",
      "left rate: 500/3383\n"
     ]
    },
    {
     "name": "stdin",
     "output_type": "stream",
     "text": [
      "Are you sure you want to proceed with the deletion?(yes/no):  yes\n"
     ]
    },
    {
     "name": "stderr",
     "output_type": "stream",
     "text": [
      "Deleting files in progress: 100%|██████████████████████████████████████████████████| 2883/2883 [00:30<00:00, 95.22it/s]"
     ]
    },
    {
     "name": "stdout",
     "output_type": "stream",
     "text": [
      "Deletion completed\n"
     ]
    },
    {
     "name": "stderr",
     "output_type": "stream",
     "text": [
      "\n"
     ]
    }
   ],
   "source": [
    "delete_data(\"D:/01 서울시립대학교/03 5학년 2학기/01 소프트웨어응용/위급상황 음성_음향/Validation/[원천]2.강도범죄_1\", None, 500)"
   ]
  },
  {
   "cell_type": "code",
   "execution_count": 68,
   "id": "7b990e2f-159a-4ea0-b063-dfe4818c1e58",
   "metadata": {},
   "outputs": [
    {
     "name": "stdout",
     "output_type": "stream",
     "text": [
      "directory path: D:/01 서울시립대학교/03 5학년 2학기/01 소프트웨어응용/위급상황 음성_음향/Validation/[원천]3.절도범죄_1\n",
      "delete rate: 1512/2012\n",
      "left rate: 500/2012\n"
     ]
    },
    {
     "name": "stdin",
     "output_type": "stream",
     "text": [
      "Are you sure you want to proceed with the deletion?(yes/no):  yes\n"
     ]
    },
    {
     "name": "stderr",
     "output_type": "stream",
     "text": [
      "Deleting files in progress: 100%|██████████████████████████████████████████████████| 1512/1512 [00:28<00:00, 53.95it/s]"
     ]
    },
    {
     "name": "stdout",
     "output_type": "stream",
     "text": [
      "Deletion completed\n"
     ]
    },
    {
     "name": "stderr",
     "output_type": "stream",
     "text": [
      "\n"
     ]
    }
   ],
   "source": [
    "delete_data(\"D:/01 서울시립대학교/03 5학년 2학기/01 소프트웨어응용/위급상황 음성_음향/Validation/[원천]3.절도범죄_1\", None, 500)"
   ]
  },
  {
   "cell_type": "code",
   "execution_count": 69,
   "id": "5ba325e2-2f1d-47de-88a6-280422ea3be2",
   "metadata": {},
   "outputs": [
    {
     "name": "stdout",
     "output_type": "stream",
     "text": [
      "directory path: D:/01 서울시립대학교/03 5학년 2학기/01 소프트웨어응용/위급상황 음성_음향/Validation/[원천]4.폭력범죄_1\n",
      "delete rate: 4038/4538\n",
      "left rate: 500/4538\n"
     ]
    },
    {
     "name": "stdin",
     "output_type": "stream",
     "text": [
      "Are you sure you want to proceed with the deletion?(yes/no):  yes\n"
     ]
    },
    {
     "name": "stderr",
     "output_type": "stream",
     "text": [
      "Deleting files in progress: 100%|██████████████████████████████████████████████████| 4038/4038 [00:58<00:00, 69.07it/s]"
     ]
    },
    {
     "name": "stdout",
     "output_type": "stream",
     "text": [
      "Deletion completed\n"
     ]
    },
    {
     "name": "stderr",
     "output_type": "stream",
     "text": [
      "\n"
     ]
    }
   ],
   "source": [
    "delete_data(\"D:/01 서울시립대학교/03 5학년 2학기/01 소프트웨어응용/위급상황 음성_음향/Validation/[원천]4.폭력범죄_1\", None, 500)"
   ]
  },
  {
   "cell_type": "code",
   "execution_count": 70,
   "id": "fcbfb55d-1c81-4ab3-a4c7-332de99e4db0",
   "metadata": {},
   "outputs": [
    {
     "name": "stdout",
     "output_type": "stream",
     "text": [
      "directory path: D:/01 서울시립대학교/03 5학년 2학기/01 소프트웨어응용/위급상황 음성_음향/Validation/[원천]5.화재_1\n",
      "delete rate: 5103/5603\n",
      "left rate: 500/5603\n"
     ]
    },
    {
     "name": "stdin",
     "output_type": "stream",
     "text": [
      "Are you sure you want to proceed with the deletion?(yes/no):  yes\n"
     ]
    },
    {
     "name": "stderr",
     "output_type": "stream",
     "text": [
      "Deleting files in progress: 100%|██████████████████████████████████████████████████| 5103/5103 [01:08<00:00, 74.57it/s]"
     ]
    },
    {
     "name": "stdout",
     "output_type": "stream",
     "text": [
      "Deletion completed\n"
     ]
    },
    {
     "name": "stderr",
     "output_type": "stream",
     "text": [
      "\n"
     ]
    }
   ],
   "source": [
    "delete_data(\"D:/01 서울시립대학교/03 5학년 2학기/01 소프트웨어응용/위급상황 음성_음향/Validation/[원천]5.화재_1\", None, 500)"
   ]
  },
  {
   "cell_type": "code",
   "execution_count": 71,
   "id": "69b07d86-ecb4-4942-85ed-672995530526",
   "metadata": {},
   "outputs": [
    {
     "name": "stdout",
     "output_type": "stream",
     "text": [
      "directory path: D:/01 서울시립대학교/03 5학년 2학기/01 소프트웨어응용/위급상황 음성_음향/Validation/[원천]6.갇힘_1\n",
      "delete rate: 854/1354\n",
      "left rate: 500/1354\n"
     ]
    },
    {
     "name": "stdin",
     "output_type": "stream",
     "text": [
      "Are you sure you want to proceed with the deletion?(yes/no):  yes\n"
     ]
    },
    {
     "name": "stderr",
     "output_type": "stream",
     "text": [
      "Deleting files in progress: 100%|████████████████████████████████████████████████████| 854/854 [00:13<00:00, 64.38it/s]"
     ]
    },
    {
     "name": "stdout",
     "output_type": "stream",
     "text": [
      "Deletion completed\n"
     ]
    },
    {
     "name": "stderr",
     "output_type": "stream",
     "text": [
      "\n"
     ]
    }
   ],
   "source": [
    "delete_data(\"D:/01 서울시립대학교/03 5학년 2학기/01 소프트웨어응용/위급상황 음성_음향/Validation/[원천]6.갇힘_1\", None, 500)"
   ]
  },
  {
   "cell_type": "code",
   "execution_count": 4,
   "id": "f681c8e0-1465-4aa2-a3af-a10b02e3f950",
   "metadata": {},
   "outputs": [
    {
     "name": "stdout",
     "output_type": "stream",
     "text": [
      "directory path: D:/01 서울시립대학교/03 5학년 2학기/01 소프트웨어응용/위급상황 음성_음향/Validation/[원천]7.응급의료_1\n",
      "delete rate: 9120/9620\n",
      "left rate: 500/9620\n"
     ]
    },
    {
     "name": "stdin",
     "output_type": "stream",
     "text": [
      "Are you sure you want to proceed with the deletion?(yes/no):  yes\n"
     ]
    },
    {
     "name": "stderr",
     "output_type": "stream",
     "text": [
      "Deleting files in progress: 100%|██████████████████████████████████████████████████| 9120/9120 [02:36<00:00, 58.19it/s]"
     ]
    },
    {
     "name": "stdout",
     "output_type": "stream",
     "text": [
      "Deletion completed\n"
     ]
    },
    {
     "name": "stderr",
     "output_type": "stream",
     "text": [
      "\n"
     ]
    }
   ],
   "source": [
    "delete_data(\"D:/01 서울시립대학교/03 5학년 2학기/01 소프트웨어응용/위급상황 음성_음향/Validation/[원천]7.응급의료_1\", None, 500)"
   ]
  },
  {
   "cell_type": "code",
   "execution_count": 5,
   "id": "f8fc07a7-afdc-47c6-9943-330adfbb3864",
   "metadata": {},
   "outputs": [
    {
     "name": "stdout",
     "output_type": "stream",
     "text": [
      "directory path: D:/01 서울시립대학교/03 5학년 2학기/01 소프트웨어응용/위급상황 음성_음향/Validation/[원천]8.전기사고_1\n",
      "delete rate: 8100/8600\n",
      "left rate: 500/8600\n"
     ]
    },
    {
     "name": "stdin",
     "output_type": "stream",
     "text": [
      "Are you sure you want to proceed with the deletion?(yes/no):  yes\n"
     ]
    },
    {
     "name": "stderr",
     "output_type": "stream",
     "text": [
      "Deleting files in progress: 100%|██████████████████████████████████████████████████| 8100/8100 [01:53<00:00, 71.58it/s]"
     ]
    },
    {
     "name": "stdout",
     "output_type": "stream",
     "text": [
      "Deletion completed\n"
     ]
    },
    {
     "name": "stderr",
     "output_type": "stream",
     "text": [
      "\n"
     ]
    }
   ],
   "source": [
    "delete_data(\"D:/01 서울시립대학교/03 5학년 2학기/01 소프트웨어응용/위급상황 음성_음향/Validation/[원천]8.전기사고_1\", None, 500)"
   ]
  },
  {
   "cell_type": "code",
   "execution_count": 6,
   "id": "67826cfe-485e-427f-82c4-80a524ccead1",
   "metadata": {},
   "outputs": [
    {
     "name": "stdout",
     "output_type": "stream",
     "text": [
      "directory path: D:/01 서울시립대학교/03 5학년 2학기/01 소프트웨어응용/위급상황 음성_음향/Validation/[원천]9.가스사고_1\n",
      "delete rate: 4789/5289\n",
      "left rate: 500/5289\n"
     ]
    },
    {
     "name": "stdin",
     "output_type": "stream",
     "text": [
      "Are you sure you want to proceed with the deletion?(yes/no):  yes\n"
     ]
    },
    {
     "name": "stderr",
     "output_type": "stream",
     "text": [
      "Deleting files in progress: 100%|██████████████████████████████████████████████████| 4789/4789 [02:30<00:00, 31.83it/s]"
     ]
    },
    {
     "name": "stdout",
     "output_type": "stream",
     "text": [
      "Deletion completed\n"
     ]
    },
    {
     "name": "stderr",
     "output_type": "stream",
     "text": [
      "\n"
     ]
    }
   ],
   "source": [
    "delete_data(\"D:/01 서울시립대학교/03 5학년 2학기/01 소프트웨어응용/위급상황 음성_음향/Validation/[원천]9.가스사고_1\", None, 500)"
   ]
  },
  {
   "cell_type": "code",
   "execution_count": 7,
   "id": "4c2e4150-f253-4498-bef4-acc64e6435ae",
   "metadata": {},
   "outputs": [
    {
     "name": "stdout",
     "output_type": "stream",
     "text": [
      "directory path: D:/01 서울시립대학교/03 5학년 2학기/01 소프트웨어응용/위급상황 음성_음향/Validation/[원천]10.낙상_1\n",
      "delete rate: 520/1020\n",
      "left rate: 500/1020\n"
     ]
    },
    {
     "name": "stdin",
     "output_type": "stream",
     "text": [
      "Are you sure you want to proceed with the deletion?(yes/no):  yes\n"
     ]
    },
    {
     "name": "stderr",
     "output_type": "stream",
     "text": [
      "Deleting files in progress: 100%|████████████████████████████████████████████████████| 520/520 [00:06<00:00, 83.63it/s]"
     ]
    },
    {
     "name": "stdout",
     "output_type": "stream",
     "text": [
      "Deletion completed\n"
     ]
    },
    {
     "name": "stderr",
     "output_type": "stream",
     "text": [
      "\n"
     ]
    }
   ],
   "source": [
    "delete_data(\"D:/01 서울시립대학교/03 5학년 2학기/01 소프트웨어응용/위급상황 음성_음향/Validation/[원천]10.낙상_1\", None, 500)"
   ]
  },
  {
   "cell_type": "code",
   "execution_count": 8,
   "id": "481db45a-614e-41e8-86ea-297bf05e54f7",
   "metadata": {},
   "outputs": [
    {
     "name": "stdout",
     "output_type": "stream",
     "text": [
      "directory path: D:/01 서울시립대학교/03 5학년 2학기/01 소프트웨어응용/위급상황 음성_음향/Validation/[원천]11.붕괴사고_1\n",
      "delete rate: 2985/3485\n",
      "left rate: 500/3485\n"
     ]
    },
    {
     "name": "stdin",
     "output_type": "stream",
     "text": [
      "Are you sure you want to proceed with the deletion?(yes/no):  yes\n"
     ]
    },
    {
     "name": "stderr",
     "output_type": "stream",
     "text": [
      "Deleting files in progress: 100%|██████████████████████████████████████████████████| 2985/2985 [00:55<00:00, 54.08it/s]"
     ]
    },
    {
     "name": "stdout",
     "output_type": "stream",
     "text": [
      "Deletion completed\n"
     ]
    },
    {
     "name": "stderr",
     "output_type": "stream",
     "text": [
      "\n"
     ]
    }
   ],
   "source": [
    "delete_data(\"D:/01 서울시립대학교/03 5학년 2학기/01 소프트웨어응용/위급상황 음성_음향/Validation/[원천]11.붕괴사고_1\", None, 500)"
   ]
  },
  {
   "cell_type": "code",
   "execution_count": 9,
   "id": "feb67eae-b6e8-44a6-9245-bf937a3314fc",
   "metadata": {},
   "outputs": [
    {
     "name": "stdout",
     "output_type": "stream",
     "text": [
      "directory path: D:/01 서울시립대학교/03 5학년 2학기/01 소프트웨어응용/위급상황 음성_음향/Validation/[원천]12.태풍-강풍_1\n",
      "delete rate: 1902/2402\n",
      "left rate: 500/2402\n"
     ]
    },
    {
     "name": "stdin",
     "output_type": "stream",
     "text": [
      "Are you sure you want to proceed with the deletion?(yes/no):  yes\n"
     ]
    },
    {
     "name": "stderr",
     "output_type": "stream",
     "text": [
      "Deleting files in progress: 100%|██████████████████████████████████████████████████| 1902/1902 [00:23<00:00, 81.78it/s]"
     ]
    },
    {
     "name": "stdout",
     "output_type": "stream",
     "text": [
      "Deletion completed\n"
     ]
    },
    {
     "name": "stderr",
     "output_type": "stream",
     "text": [
      "\n"
     ]
    }
   ],
   "source": [
    "delete_data(\"D:/01 서울시립대학교/03 5학년 2학기/01 소프트웨어응용/위급상황 음성_음향/Validation/[원천]12.태풍-강풍_1\", None, 500)"
   ]
  },
  {
   "cell_type": "code",
   "execution_count": 10,
   "id": "2f4b5acf-d906-4cfb-af4f-86661350ad30",
   "metadata": {},
   "outputs": [
    {
     "name": "stdout",
     "output_type": "stream",
     "text": [
      "directory path: D:/01 서울시립대학교/03 5학년 2학기/01 소프트웨어응용/위급상황 음성_음향/Validation/[원천]13.지진_1\n",
      "delete rate: 2263/2763\n",
      "left rate: 500/2763\n"
     ]
    },
    {
     "name": "stdin",
     "output_type": "stream",
     "text": [
      "Are you sure you want to proceed with the deletion?(yes/no):  yes\n"
     ]
    },
    {
     "name": "stderr",
     "output_type": "stream",
     "text": [
      "Deleting files in progress: 100%|██████████████████████████████████████████████████| 2263/2263 [00:41<00:00, 54.78it/s]"
     ]
    },
    {
     "name": "stdout",
     "output_type": "stream",
     "text": [
      "Deletion completed\n"
     ]
    },
    {
     "name": "stderr",
     "output_type": "stream",
     "text": [
      "\n"
     ]
    }
   ],
   "source": [
    "delete_data(\"D:/01 서울시립대학교/03 5학년 2학기/01 소프트웨어응용/위급상황 음성_음향/Validation/[원천]13.지진_1\", None, 500)"
   ]
  },
  {
   "cell_type": "code",
   "execution_count": 11,
   "id": "5ae1b09e-01e4-4f88-a082-d1061abf34d2",
   "metadata": {},
   "outputs": [
    {
     "name": "stdout",
     "output_type": "stream",
     "text": [
      "directory path: D:/01 서울시립대학교/03 5학년 2학기/01 소프트웨어응용/위급상황 음성_음향/Validation/[원천]14.도움요청_1\n",
      "delete rate: 559/1059\n",
      "left rate: 500/1059\n"
     ]
    },
    {
     "name": "stdin",
     "output_type": "stream",
     "text": [
      "Are you sure you want to proceed with the deletion?(yes/no):  yes\n"
     ]
    },
    {
     "name": "stderr",
     "output_type": "stream",
     "text": [
      "Deleting files in progress: 100%|████████████████████████████████████████████████████| 559/559 [00:07<00:00, 70.86it/s]"
     ]
    },
    {
     "name": "stdout",
     "output_type": "stream",
     "text": [
      "Deletion completed\n"
     ]
    },
    {
     "name": "stderr",
     "output_type": "stream",
     "text": [
      "\n"
     ]
    }
   ],
   "source": [
    "delete_data(\"D:/01 서울시립대학교/03 5학년 2학기/01 소프트웨어응용/위급상황 음성_음향/Validation/[원천]14.도움요청_1\", None, 500)"
   ]
  },
  {
   "cell_type": "code",
   "execution_count": 12,
   "id": "663a84b6-0b5f-4072-8fdf-dc19db34b5dc",
   "metadata": {},
   "outputs": [
    {
     "name": "stdout",
     "output_type": "stream",
     "text": [
      "directory path: D:/01 서울시립대학교/03 5학년 2학기/01 소프트웨어응용/위급상황 음성_음향/Validation/[원천]15.실내_1\n",
      "delete rate: 2665/2865\n",
      "left rate: 200/2865\n"
     ]
    },
    {
     "name": "stdin",
     "output_type": "stream",
     "text": [
      "Are you sure you want to proceed with the deletion?(yes/no):  yes\n"
     ]
    },
    {
     "name": "stderr",
     "output_type": "stream",
     "text": [
      "Deleting files in progress: 100%|██████████████████████████████████████████████████| 2665/2665 [02:11<00:00, 20.26it/s]"
     ]
    },
    {
     "name": "stdout",
     "output_type": "stream",
     "text": [
      "Deletion completed\n"
     ]
    },
    {
     "name": "stderr",
     "output_type": "stream",
     "text": [
      "\n"
     ]
    }
   ],
   "source": [
    "delete_data(\"D:/01 서울시립대학교/03 5학년 2학기/01 소프트웨어응용/위급상황 음성_음향/Validation/[원천]15.실내_1\", None, 200)"
   ]
  },
  {
   "cell_type": "code",
   "execution_count": 13,
   "id": "9ebd7a74-19b4-4f34-8ed2-fbcfda4bf107",
   "metadata": {},
   "outputs": [
    {
     "name": "stdout",
     "output_type": "stream",
     "text": [
      "directory path: D:/01 서울시립대학교/03 5학년 2학기/01 소프트웨어응용/위급상황 음성_음향/Validation/[원천]16.실외_1\n",
      "delete rate: 932/1132\n",
      "left rate: 200/1132\n"
     ]
    },
    {
     "name": "stdin",
     "output_type": "stream",
     "text": [
      "Are you sure you want to proceed with the deletion?(yes/no):  yes\n"
     ]
    },
    {
     "name": "stderr",
     "output_type": "stream",
     "text": [
      "Deleting files in progress: 100%|████████████████████████████████████████████████████| 932/932 [00:42<00:00, 21.73it/s]"
     ]
    },
    {
     "name": "stdout",
     "output_type": "stream",
     "text": [
      "Deletion completed\n"
     ]
    },
    {
     "name": "stderr",
     "output_type": "stream",
     "text": [
      "\n"
     ]
    }
   ],
   "source": [
    "delete_data(\"D:/01 서울시립대학교/03 5학년 2학기/01 소프트웨어응용/위급상황 음성_음향/Validation/[원천]16.실외_1\", None, 200)"
   ]
  },
  {
   "cell_type": "code",
   "execution_count": 14,
   "id": "fa3e7091-dca2-4841-9208-81894ddcc4e4",
   "metadata": {},
   "outputs": [
    {
     "name": "stdout",
     "output_type": "stream",
     "text": [
      "directory path: D:/01 서울시립대학교/03 5학년 2학기/01 소프트웨어응용/008.소음 환경 음성인식 데이터/01.데이터/1.Training/원천데이터_0824_add/01.가전소음/01.세탁기,건조기\n",
      "delete rate: 5294/5794\n",
      "left rate: 500/5794\n"
     ]
    },
    {
     "name": "stdin",
     "output_type": "stream",
     "text": [
      "Are you sure you want to proceed with the deletion?(yes/no):  yes\n"
     ]
    },
    {
     "name": "stderr",
     "output_type": "stream",
     "text": [
      "Deleting files in progress: 100%|██████████████████████████████████████████████████| 5294/5294 [06:14<00:00, 14.12it/s]"
     ]
    },
    {
     "name": "stdout",
     "output_type": "stream",
     "text": [
      "Deletion completed\n"
     ]
    },
    {
     "name": "stderr",
     "output_type": "stream",
     "text": [
      "\n"
     ]
    }
   ],
   "source": [
    "delete_data(\"D:/01 서울시립대학교/03 5학년 2학기/01 소프트웨어응용/008.소음 환경 음성인식 데이터/01.데이터/1.Training/원천데이터_0824_add/01.가전소음/01.세탁기,건조기\",\n",
    "            None, 500)"
   ]
  },
  {
   "cell_type": "code",
   "execution_count": 15,
   "id": "5743c2bd-f2bf-4722-ad0a-e5915cdf8063",
   "metadata": {},
   "outputs": [
    {
     "name": "stdout",
     "output_type": "stream",
     "text": [
      "directory path: D:/01 서울시립대학교/03 5학년 2학기/01 소프트웨어응용/008.소음 환경 음성인식 데이터/01.데이터/1.Training/원천데이터_0824_add/01.가전소음/02.청소기\n",
      "delete rate: 1972/2472\n",
      "left rate: 500/2472\n"
     ]
    },
    {
     "name": "stdin",
     "output_type": "stream",
     "text": [
      "Are you sure you want to proceed with the deletion?(yes/no):  yes\n"
     ]
    },
    {
     "name": "stderr",
     "output_type": "stream",
     "text": [
      "Deleting files in progress: 100%|██████████████████████████████████████████████████| 1972/1972 [02:20<00:00, 14.08it/s]"
     ]
    },
    {
     "name": "stdout",
     "output_type": "stream",
     "text": [
      "Deletion completed\n"
     ]
    },
    {
     "name": "stderr",
     "output_type": "stream",
     "text": [
      "\n"
     ]
    }
   ],
   "source": [
    "delete_data(\"D:/01 서울시립대학교/03 5학년 2학기/01 소프트웨어응용/008.소음 환경 음성인식 데이터/01.데이터/1.Training/원천데이터_0824_add/01.가전소음/02.청소기\",\n",
    "            None, 500)"
   ]
  },
  {
   "cell_type": "code",
   "execution_count": 16,
   "id": "b814c512-b468-4068-9df9-f617be3dd428",
   "metadata": {},
   "outputs": [
    {
     "name": "stdout",
     "output_type": "stream",
     "text": [
      "directory path: D:/01 서울시립대학교/03 5학년 2학기/01 소프트웨어응용/008.소음 환경 음성인식 데이터/01.데이터/1.Training/원천데이터_0824_add/01.가전소음/03.가전소음_기타소음\n",
      "delete rate: 14948/15448\n",
      "left rate: 500/15448\n"
     ]
    },
    {
     "name": "stdin",
     "output_type": "stream",
     "text": [
      "Are you sure you want to proceed with the deletion?(yes/no):  yes\n"
     ]
    },
    {
     "name": "stderr",
     "output_type": "stream",
     "text": [
      "Deleting files in progress: 100%|████████████████████████████████████████████████| 14948/14948 [16:12<00:00, 15.36it/s]"
     ]
    },
    {
     "name": "stdout",
     "output_type": "stream",
     "text": [
      "Deletion completed\n"
     ]
    },
    {
     "name": "stderr",
     "output_type": "stream",
     "text": [
      "\n"
     ]
    }
   ],
   "source": [
    "delete_data(\"D:/01 서울시립대학교/03 5학년 2학기/01 소프트웨어응용/008.소음 환경 음성인식 데이터/01.데이터/1.Training/원천데이터_0824_add/01.가전소음/03.가전소음_기타소음\",\n",
    "            None, 500)"
   ]
  },
  {
   "cell_type": "code",
   "execution_count": 3,
   "id": "9bfea375-17e6-4c73-8f2f-32b2b4834f70",
   "metadata": {},
   "outputs": [
    {
     "name": "stdout",
     "output_type": "stream",
     "text": [
      "directory path: D:/01 서울시립대학교/03 5학년 2학기/01 소프트웨어응용/008.소음 환경 음성인식 데이터/01.데이터/2.Validation/원천데이터/01.가전소음/01.세탁기,건조기\n",
      "delete rate: 666/766\n",
      "left rate: 100/766\n"
     ]
    },
    {
     "name": "stdin",
     "output_type": "stream",
     "text": [
      "Are you sure you want to proceed with the deletion?(yes/no):  yes\n"
     ]
    },
    {
     "name": "stderr",
     "output_type": "stream",
     "text": [
      "Deleting files in progress: 100%|█████████████████████████████████████████████████████████████████████████████████████████████████████████████████████████████████████████████| 666/666 [04:28<00:00,  2.48it/s]"
     ]
    },
    {
     "name": "stdout",
     "output_type": "stream",
     "text": [
      "Deletion completed\n"
     ]
    },
    {
     "name": "stderr",
     "output_type": "stream",
     "text": [
      "\n"
     ]
    }
   ],
   "source": [
    "delete_data(\"D:/01 서울시립대학교/03 5학년 2학기/01 소프트웨어응용/008.소음 환경 음성인식 데이터/01.데이터/2.Validation/원천데이터/01.가전소음/01.세탁기,건조기\",\n",
    "            None, 100)"
   ]
  },
  {
   "cell_type": "code",
   "execution_count": 4,
   "id": "46ed3aa8-18fe-4674-93fa-0eb7664f0857",
   "metadata": {},
   "outputs": [
    {
     "name": "stdout",
     "output_type": "stream",
     "text": [
      "directory path: D:/01 서울시립대학교/03 5학년 2학기/01 소프트웨어응용/008.소음 환경 음성인식 데이터/01.데이터/2.Validation/원천데이터/01.가전소음/02.청소기\n",
      "delete rate: 200/300\n",
      "left rate: 100/300\n"
     ]
    },
    {
     "name": "stdin",
     "output_type": "stream",
     "text": [
      "Are you sure you want to proceed with the deletion?(yes/no):  yes\n"
     ]
    },
    {
     "name": "stderr",
     "output_type": "stream",
     "text": [
      "Deleting files in progress: 100%|█████████████████████████████████████████████████████████████████████████████████████████████████████████████████████████████████████████████| 200/200 [00:58<00:00,  3.40it/s]"
     ]
    },
    {
     "name": "stdout",
     "output_type": "stream",
     "text": [
      "Deletion completed\n"
     ]
    },
    {
     "name": "stderr",
     "output_type": "stream",
     "text": [
      "\n"
     ]
    }
   ],
   "source": [
    "delete_data(\"D:/01 서울시립대학교/03 5학년 2학기/01 소프트웨어응용/008.소음 환경 음성인식 데이터/01.데이터/2.Validation/원천데이터/01.가전소음/02.청소기\",\n",
    "            None, 100)"
   ]
  },
  {
   "cell_type": "code",
   "execution_count": 5,
   "id": "25fe53b2-c73d-4d0b-b446-56fb0dda1aa7",
   "metadata": {},
   "outputs": [
    {
     "name": "stdout",
     "output_type": "stream",
     "text": [
      "directory path: D:/01 서울시립대학교/03 5학년 2학기/01 소프트웨어응용/008.소음 환경 음성인식 데이터/01.데이터/2.Validation/원천데이터/01.가전소음/03.가전소음_기타소음\n",
      "delete rate: 1796/1896\n",
      "left rate: 100/1896\n"
     ]
    },
    {
     "name": "stdin",
     "output_type": "stream",
     "text": [
      "Are you sure you want to proceed with the deletion?(yes/no):  yes\n"
     ]
    },
    {
     "name": "stderr",
     "output_type": "stream",
     "text": [
      "Deleting files in progress: 100%|███████████████████████████████████████████████████████████████████████████████████████████████████████████████████████████████████████████| 1796/1796 [08:28<00:00,  3.53it/s]"
     ]
    },
    {
     "name": "stdout",
     "output_type": "stream",
     "text": [
      "Deletion completed\n"
     ]
    },
    {
     "name": "stderr",
     "output_type": "stream",
     "text": [
      "\n"
     ]
    }
   ],
   "source": [
    "delete_data(\"D:/01 서울시립대학교/03 5학년 2학기/01 소프트웨어응용/008.소음 환경 음성인식 데이터/01.데이터/2.Validation/원천데이터/01.가전소음/03.가전소음_기타소음\",\n",
    "            None, 100)"
   ]
  },
  {
   "cell_type": "code",
   "execution_count": 11,
   "id": "a36f9744-adbb-4698-aabb-8fbd17b0c67e",
   "metadata": {},
   "outputs": [
    {
     "name": "stderr",
     "output_type": "stream",
     "text": [
      "Moving files in progress: 100%|█████████████████████████████████████████████████████████████████████████████████████████████████████████████████████████████████████████████| 3000/3000 [01:47<00:00, 27.84it/s]\n"
     ]
    }
   ],
   "source": [
    "move(\"D:/01 서울시립대학교/03 5학년 2학기/01 소프트웨어응용/위급상황 음성_음향/Training/[원천]1.강제추행(성범죄)_1\",\n",
    "     \"D:/01 서울시립대학교/03 5학년 2학기/01 소프트웨어응용/Dataset/train/label/1.강제추행(성범죄)\")"
   ]
  },
  {
   "cell_type": "code",
   "execution_count": 5,
   "id": "8705e155-b0e2-42a6-ae6e-1a66a8046080",
   "metadata": {},
   "outputs": [
    {
     "name": "stderr",
     "output_type": "stream",
     "text": [
      "Moving files in progress: 100%|████████████████████████████████████████████████████| 3000/3000 [00:33<00:00, 90.63it/s]\n",
      "Moving files in progress: 100%|███████████████████████████████████████████████████| 3000/3000 [00:29<00:00, 100.22it/s]\n",
      "Moving files in progress: 100%|████████████████████████████████████████████████████| 3000/3000 [00:33<00:00, 88.72it/s]\n"
     ]
    }
   ],
   "source": [
    "original_list = ['[원천]2.강도범죄_1', '[원천]3.절도범죄_1', '[원천]4.폭력범죄_1']\n",
    "new_list = ['2.강도범죄', '3.절도범죄', '4.폭력범죄']\n",
    "\n",
    "for i in range(len(original_list)):\n",
    "    move(f\"D:/01 서울시립대학교/03 5학년 2학기/01 소프트웨어응용/위급상황 음성_음향/Training/{original_list[i]}\",\n",
    "         f\"D:/01 서울시립대학교/03 5학년 2학기/01 소프트웨어응용/Dataset/train/audio/{new_list[i]}\")"
   ]
  },
  {
   "cell_type": "code",
   "execution_count": 6,
   "id": "430b631c-1b45-43c7-9a04-0fa1ac3c2651",
   "metadata": {},
   "outputs": [
    {
     "name": "stderr",
     "output_type": "stream",
     "text": [
      "Moving files in progress: 100%|████████████████████████████████████████████████████| 3000/3000 [00:30<00:00, 97.30it/s]\n",
      "Moving files in progress: 100%|███████████████████████████████████████████████████| 3000/3000 [00:29<00:00, 101.56it/s]\n",
      "Moving files in progress: 100%|████████████████████████████████████████████████████| 3000/3000 [00:31<00:00, 96.45it/s]\n",
      "Moving files in progress: 100%|████████████████████████████████████████████████████| 3000/3000 [00:33<00:00, 90.35it/s]\n"
     ]
    }
   ],
   "source": [
    "original_list = ['[원천]5.화재_1', '[원천]6.갇힘_1', '[원천]7.응급의료_1', '[원천]8.전기사고_1']\n",
    "new_list = ['5.화재', '6.갇힘', '7.응급의료', '8.전기사고']\n",
    "\n",
    "for i in range(len(original_list)):\n",
    "    move(f\"D:/01 서울시립대학교/03 5학년 2학기/01 소프트웨어응용/위급상황 음성_음향/Training/{original_list[i]}\",\n",
    "         f\"D:/01 서울시립대학교/03 5학년 2학기/01 소프트웨어응용/Dataset/train/audio/{new_list[i]}\")"
   ]
  },
  {
   "cell_type": "code",
   "execution_count": 7,
   "id": "f159a357-face-4174-95dd-d535c4f82d87",
   "metadata": {},
   "outputs": [
    {
     "name": "stderr",
     "output_type": "stream",
     "text": [
      "Moving files in progress: 100%|████████████████████████████████████████████████████| 3000/3000 [00:32<00:00, 93.71it/s]\n",
      "Moving files in progress: 100%|████████████████████████████████████████████████████| 3000/3000 [00:31<00:00, 94.82it/s]\n",
      "Moving files in progress: 100%|████████████████████████████████████████████████████| 3000/3000 [00:31<00:00, 95.12it/s]\n",
      "Moving files in progress: 100%|████████████████████████████████████████████████████| 3000/3000 [00:32<00:00, 92.35it/s]\n",
      "Moving files in progress: 100%|████████████████████████████████████████████████████| 3000/3000 [00:33<00:00, 88.64it/s]\n",
      "Moving files in progress: 100%|████████████████████████████████████████████████████| 3000/3000 [00:36<00:00, 82.42it/s]\n",
      "Moving files in progress: 100%|████████████████████████████████████████████████████| 1000/1000 [00:11<00:00, 85.95it/s]\n",
      "Moving files in progress: 100%|████████████████████████████████████████████████████| 1000/1000 [00:10<00:00, 92.50it/s]\n"
     ]
    }
   ],
   "source": [
    "original_list = ['[원천]9.가스사고_1', '[원천]10.낙상_1', '[원천]11.붕괴사고_1', '[원천]12.태풍-강풍_1',\n",
    "                 '[원천]13.지진_1', '[원천]14.도움요청_1', '[원천]15.실내_1', '[원천]16.실외_1']\n",
    "new_list = ['9.가스사고', '10.낙상', '11.붕괴사고', '12.태풍-강풍',\n",
    "            '13.지진', '14.도움요청', '15.실내', '16.실외']\n",
    "\n",
    "for i in range(len(original_list)):\n",
    "    move(f\"D:/01 서울시립대학교/03 5학년 2학기/01 소프트웨어응용/위급상황 음성_음향/Training/{original_list[i]}\",\n",
    "         f\"D:/01 서울시립대학교/03 5학년 2학기/01 소프트웨어응용/Dataset/train/audio/{new_list[i]}\")"
   ]
  },
  {
   "cell_type": "code",
   "execution_count": 8,
   "id": "22869af4-4667-4f48-84e8-175fc4c28660",
   "metadata": {},
   "outputs": [
    {
     "name": "stderr",
     "output_type": "stream",
     "text": [
      "Moving files in progress: 100%|█████████████████████████████████████████████████████| 500/500 [00:04<00:00, 124.80it/s]\n",
      "Moving files in progress: 100%|█████████████████████████████████████████████████████| 500/500 [00:04<00:00, 106.91it/s]\n",
      "Moving files in progress: 100%|██████████████████████████████████████████████████████| 500/500 [00:05<00:00, 98.56it/s]\n",
      "Moving files in progress: 100%|█████████████████████████████████████████████████████| 500/500 [00:04<00:00, 102.60it/s]\n",
      "Moving files in progress: 100%|█████████████████████████████████████████████████████| 500/500 [00:04<00:00, 103.42it/s]\n",
      "Moving files in progress: 100%|█████████████████████████████████████████████████████| 500/500 [00:04<00:00, 108.28it/s]\n",
      "Moving files in progress: 100%|██████████████████████████████████████████████████████| 500/500 [00:05<00:00, 95.08it/s]\n",
      "Moving files in progress: 100%|██████████████████████████████████████████████████████| 500/500 [00:05<00:00, 93.61it/s]\n",
      "Moving files in progress: 100%|██████████████████████████████████████████████████████| 500/500 [00:05<00:00, 92.66it/s]\n",
      "Moving files in progress: 100%|█████████████████████████████████████████████████████| 500/500 [00:04<00:00, 112.33it/s]\n",
      "Moving files in progress: 100%|██████████████████████████████████████████████████████| 500/500 [00:05<00:00, 95.73it/s]\n",
      "Moving files in progress: 100%|██████████████████████████████████████████████████████| 500/500 [00:05<00:00, 99.14it/s]\n",
      "Moving files in progress: 100%|██████████████████████████████████████████████████████| 500/500 [00:05<00:00, 99.52it/s]\n",
      "Moving files in progress: 100%|█████████████████████████████████████████████████████| 500/500 [00:04<00:00, 101.90it/s]\n",
      "Moving files in progress: 100%|██████████████████████████████████████████████████████| 200/200 [00:02<00:00, 81.02it/s]\n",
      "Moving files in progress: 100%|██████████████████████████████████████████████████████| 200/200 [00:02<00:00, 96.04it/s]\n"
     ]
    }
   ],
   "source": [
    "original_list = ['[원천]1.강제추행(성범죄)_1', '[원천]2.강도범죄_1', '[원천]3.절도범죄_1', '[원천]4.폭력범죄_1',\n",
    "                 '[원천]5.화재_1', '[원천]6.갇힘_1', '[원천]7.응급의료_1', '[원천]8.전기사고_1',\n",
    "                 '[원천]9.가스사고_1', '[원천]10.낙상_1', '[원천]11.붕괴사고_1', '[원천]12.태풍-강풍_1',\n",
    "                 '[원천]13.지진_1', '[원천]14.도움요청_1', '[원천]15.실내_1', '[원천]16.실외_1']\n",
    "new_list = ['1.강제추행(성범죄)', '2.강도범죄', '3.절도범죄', '4.폭력범죄',\n",
    "            '5.화재', '6.갇힘', '7.응급의료', '8.전기사고',\n",
    "            '9.가스사고', '10.낙상', '11.붕괴사고', '12.태풍-강풍',\n",
    "            '13.지진', '14.도움요청', '15.실내', '16.실외']\n",
    "\n",
    "for i in range(len(original_list)):\n",
    "    move(f\"D:/01 서울시립대학교/03 5학년 2학기/01 소프트웨어응용/위급상황 음성_음향/Validation/{original_list[i]}\",\n",
    "         f\"D:/01 서울시립대학교/03 5학년 2학기/01 소프트웨어응용/Dataset/test/audio/{new_list[i]}\")"
   ]
  },
  {
   "cell_type": "code",
   "execution_count": 9,
   "id": "ba491998-bcf6-4637-a741-f01485426d16",
   "metadata": {
    "scrolled": true
   },
   "outputs": [
    {
     "name": "stderr",
     "output_type": "stream",
     "text": [
      "Moving files in progress: 100%|████████████████████████████████████████████████| 20925/20925 [00:08<00:00, 2485.69it/s]\n",
      "Moving files in progress: 100%|████████████████████████████████████████████████| 19490/19490 [00:08<00:00, 2343.84it/s]\n",
      "Moving files in progress: 100%|████████████████████████████████████████████████| 12646/12646 [00:05<00:00, 2432.73it/s]\n",
      "Moving files in progress: 100%|████████████████████████████████████████████████| 41612/41612 [00:17<00:00, 2428.97it/s]\n",
      "Moving files in progress: 100%|████████████████████████████████████████████████| 47401/47401 [00:19<00:00, 2437.14it/s]\n",
      "Moving files in progress: 100%|████████████████████████████████████████████████| 13029/13029 [00:05<00:00, 2520.56it/s]\n",
      "Moving files in progress: 100%|████████████████████████████████████████████████| 46901/46901 [00:19<00:00, 2348.32it/s]\n",
      "Moving files in progress: 100%|████████████████████████████████████████████████| 38530/38530 [00:19<00:00, 1948.92it/s]\n",
      "Moving files in progress: 100%|████████████████████████████████████████████████| 22953/22953 [00:09<00:00, 2321.42it/s]\n",
      "Moving files in progress: 100%|████████████████████████████████████████████████| 18322/18322 [00:07<00:00, 2327.64it/s]\n",
      "Moving files in progress: 100%|████████████████████████████████████████████████| 29691/29691 [00:12<00:00, 2401.82it/s]\n",
      "Moving files in progress: 100%|████████████████████████████████████████████████| 23350/23350 [00:09<00:00, 2457.49it/s]\n",
      "Moving files in progress: 100%|████████████████████████████████████████████████| 28240/28240 [00:11<00:00, 2413.41it/s]\n",
      "Moving files in progress: 100%|████████████████████████████████████████████████| 40735/40735 [00:16<00:00, 2431.13it/s]\n",
      "Moving files in progress: 100%|████████████████████████████████████████████████| 31155/31155 [00:12<00:00, 2418.55it/s]\n",
      "Moving files in progress: 100%|████████████████████████████████████████████████| 12085/12085 [00:04<00:00, 2420.23it/s]\n"
     ]
    }
   ],
   "source": [
    "original_list = ['[라벨]1.강제추행(성범죄)', '[라벨]2.강도범죄', '[라벨]3.절도범죄', '[라벨]4.폭력범죄',\n",
    "                 '[라벨]5.화재', '[라벨]6.갇힘', '[라벨]7.응급의료', '[라벨]8.전기사고',\n",
    "                 '[라벨]9.가스사고', '[라벨]10.낙상', '[라벨]11.붕괴사고', '[라벨]12.태풍-강풍',\n",
    "                 '[라벨]13.지진', '[라벨]14.도움요청', '[라벨]15.실내', '[라벨]16.실외']\n",
    "new_list = ['1.강제추행(성범죄)', '2.강도범죄', '3.절도범죄', '4.폭력범죄',\n",
    "            '5.화재', '6.갇힘', '7.응급의료', '8.전기사고',\n",
    "            '9.가스사고', '10.낙상', '11.붕괴사고', '12.태풍-강풍',\n",
    "            '13.지진', '14.도움요청', '15.실내', '16.실외']\n",
    "\n",
    "for i in range(len(original_list)):\n",
    "    move(f\"D:/01 서울시립대학교/03 5학년 2학기/01 소프트웨어응용/위급상황 음성_음향/Training/{original_list[i]}\",\n",
    "         f\"D:/01 서울시립대학교/03 5학년 2학기/01 소프트웨어응용/Dataset/train/label/{new_list[i]}\")"
   ]
  },
  {
   "cell_type": "code",
   "execution_count": 10,
   "id": "64d84a9e-45c0-44f7-9e03-13f6e9d97915",
   "metadata": {},
   "outputs": [
    {
     "name": "stderr",
     "output_type": "stream",
     "text": [
      "Moving files in progress: 100%|████████████████████████████████████████████████████| 757/757 [00:00<00:00, 1773.73it/s]\n",
      "Moving files in progress: 100%|██████████████████████████████████████████████████| 3383/3383 [00:01<00:00, 1881.10it/s]\n",
      "Moving files in progress: 100%|██████████████████████████████████████████████████| 2012/2012 [00:01<00:00, 1777.30it/s]\n",
      "Moving files in progress: 100%|██████████████████████████████████████████████████| 4538/4538 [00:01<00:00, 2297.52it/s]\n",
      "Moving files in progress: 100%|██████████████████████████████████████████████████| 5603/5603 [00:02<00:00, 2261.55it/s]\n",
      "Moving files in progress: 100%|██████████████████████████████████████████████████| 1354/1354 [00:00<00:00, 2414.75it/s]\n",
      "Moving files in progress: 100%|██████████████████████████████████████████████████| 9620/9620 [00:04<00:00, 2260.14it/s]\n",
      "Moving files in progress: 100%|██████████████████████████████████████████████████| 8600/8600 [00:04<00:00, 1990.30it/s]\n",
      "Moving files in progress: 100%|██████████████████████████████████████████████████| 5289/5289 [00:03<00:00, 1434.83it/s]\n",
      "Moving files in progress: 100%|██████████████████████████████████████████████████| 1020/1020 [00:00<00:00, 1477.50it/s]\n",
      "Moving files in progress: 100%|██████████████████████████████████████████████████| 3485/3485 [00:02<00:00, 1442.94it/s]\n",
      "Moving files in progress: 100%|██████████████████████████████████████████████████| 2402/2402 [00:01<00:00, 1470.39it/s]\n",
      "Moving files in progress: 100%|██████████████████████████████████████████████████| 2763/2763 [00:02<00:00, 1347.48it/s]\n",
      "Moving files in progress: 100%|██████████████████████████████████████████████████| 1059/1059 [00:00<00:00, 1263.21it/s]\n",
      "Moving files in progress: 100%|██████████████████████████████████████████████████| 2865/2865 [00:02<00:00, 1338.13it/s]\n",
      "Moving files in progress: 100%|██████████████████████████████████████████████████| 1132/1132 [00:01<00:00, 1007.47it/s]\n"
     ]
    }
   ],
   "source": [
    "original_list = ['[라벨]1.강제추행(성범죄)', '[라벨]2.강도범죄', '[라벨]3.절도범죄', '[라벨]4.폭력범죄',\n",
    "                 '[라벨]5.화재', '[라벨]6.갇힘', '[라벨]7.응급의료', '[라벨]8.전기사고',\n",
    "                 '[라벨]9.가스사고', '[라벨]10.낙상', '[라벨]11.붕괴사고', '[라벨]12.태풍-강풍',\n",
    "                 '[라벨]13.지진', '[라벨]14.도움요청', '[라벨]15.실내', '[라벨]16.실외']\n",
    "new_list = ['1.강제추행(성범죄)', '2.강도범죄', '3.절도범죄', '4.폭력범죄',\n",
    "            '5.화재', '6.갇힘', '7.응급의료', '8.전기사고',\n",
    "            '9.가스사고', '10.낙상', '11.붕괴사고', '12.태풍-강풍',\n",
    "            '13.지진', '14.도움요청', '15.실내', '16.실외']\n",
    "\n",
    "for i in range(len(original_list)):\n",
    "    move(f\"D:/01 서울시립대학교/03 5학년 2학기/01 소프트웨어응용/위급상황 음성_음향/Validation/{original_list[i]}\",\n",
    "         f\"D:/01 서울시립대학교/03 5학년 2학기/01 소프트웨어응용/Dataset/test/label/{new_list[i]}\")"
   ]
  },
  {
   "cell_type": "code",
   "execution_count": 5,
   "id": "491074d8-a87a-4ac3-9508-faaa89811015",
   "metadata": {},
   "outputs": [
    {
     "name": "stderr",
     "output_type": "stream",
     "text": [
      "Moving files in progress: 100%|██████████████████████████████████████████████████| 6797/6797 [00:03<00:00, 1988.62it/s]\n",
      "Moving files in progress: 100%|██████████████████████████████████████████████████| 7489/7489 [00:03<00:00, 2383.54it/s]\n",
      "Moving files in progress: 100%|██████████████████████████████████████████████████| 8228/8228 [00:03<00:00, 2333.18it/s]\n"
     ]
    }
   ],
   "source": [
    "original_list = ['01.세탁기,건조기', '02.청소기', '03.가전소음_기타소음']\n",
    "new_list = ['17.가전소음_세탁기,건조기', '18.가전소음_청소기', '19.가전소음_기타소음']\n",
    "\n",
    "for i in range(len(original_list)):\n",
    "    move(f\"D:/01 서울시립대학교/03 5학년 2학기/01 소프트웨어응용/Saveset/01.데이터/1.Training/원천데이터/01.가전소음/{original_list[i]}\",\n",
    "         f\"D:/01 서울시립대학교/03 5학년 2학기/01 소프트웨어응용/Dataset/train/audio/{new_list[i]}\")"
   ]
  },
  {
   "cell_type": "code",
   "execution_count": 6,
   "id": "3f5f03de-3c0d-4e1e-9071-2aade236eee7",
   "metadata": {},
   "outputs": [
    {
     "name": "stderr",
     "output_type": "stream",
     "text": [
      "Moving files in progress: 100%|██████████████████████████████████████████████████| 8000/8000 [00:05<00:00, 1452.39it/s]\n",
      "Moving files in progress: 100%|██████████████████████████████████████████████████| 8430/8430 [00:03<00:00, 2248.85it/s]\n",
      "Moving files in progress: 100%|██████████████████████████████████████████████████| 8801/8801 [00:03<00:00, 2306.61it/s]\n"
     ]
    }
   ],
   "source": [
    "original_list = ['01.세탁기,건조기', '02.청소기', '03.가전소음_기타소음']\n",
    "new_list = ['17.가전소음_세탁기,건조기', '18.가전소음_청소기', '19.가전소음_기타소음']\n",
    "\n",
    "for i in range(len(original_list)):\n",
    "    move(f\"D:/01 서울시립대학교/03 5학년 2학기/01 소프트웨어응용/Saveset/01.데이터/1.Training/라벨링데이터/01.가전소음/{original_list[i]}\",\n",
    "         f\"D:/01 서울시립대학교/03 5학년 2학기/01 소프트웨어응용/Dataset/train/label/{new_list[i]}\")"
   ]
  },
  {
   "cell_type": "code",
   "execution_count": 7,
   "id": "bbde29a5-f0f1-4c9e-87c6-4b7322f1f95e",
   "metadata": {},
   "outputs": [
    {
     "name": "stderr",
     "output_type": "stream",
     "text": [
      "Moving files in progress: 100%|██████████████████████████████████████████████████| 1454/1454 [00:00<00:00, 1499.73it/s]\n",
      "Moving files in progress: 100%|██████████████████████████████████████████████████| 1675/1675 [00:00<00:00, 2815.40it/s]\n",
      "Moving files in progress: 100%|██████████████████████████████████████████████████| 1573/1573 [00:00<00:00, 2482.46it/s]\n"
     ]
    }
   ],
   "source": [
    "original_list = ['01.세탁기,건조기', '02.청소기', '03.가전소음_기타소음']\n",
    "new_list = ['17.가전소음_세탁기,건조기', '18.가전소음_청소기', '19.가전소음_기타소음']\n",
    "\n",
    "for i in range(len(original_list)):\n",
    "    move(f\"D:/01 서울시립대학교/03 5학년 2학기/01 소프트웨어응용/Saveset/01.데이터/2.Validation/원천데이터/01.가전소음/{original_list[i]}\",\n",
    "         f\"D:/01 서울시립대학교/03 5학년 2학기/01 소프트웨어응용/Dataset/test/audio/{new_list[i]}\")"
   ]
  },
  {
   "cell_type": "code",
   "execution_count": 8,
   "id": "a8f4d5f9-95c4-4903-ab28-6bb94bc40b94",
   "metadata": {},
   "outputs": [
    {
     "name": "stderr",
     "output_type": "stream",
     "text": [
      "Moving files in progress: 100%|██████████████████████████████████████████████████| 1673/1673 [00:00<00:00, 2453.98it/s]\n",
      "Moving files in progress: 100%|██████████████████████████████████████████████████| 1828/1828 [00:00<00:00, 2327.26it/s]\n",
      "Moving files in progress: 100%|██████████████████████████████████████████████████| 1699/1699 [00:00<00:00, 2285.61it/s]\n"
     ]
    }
   ],
   "source": [
    "original_list = ['01.세탁기,건조기', '02.청소기', '03.가전소음_기타소음']\n",
    "new_list = ['17.가전소음_세탁기,건조기', '18.가전소음_청소기', '19.가전소음_기타소음']\n",
    "\n",
    "for i in range(len(original_list)):\n",
    "    move(f\"D:/01 서울시립대학교/03 5학년 2학기/01 소프트웨어응용/Saveset/01.데이터/2.Validation/라벨링데이터/01.가전소음/{original_list[i]}\",\n",
    "         f\"D:/01 서울시립대학교/03 5학년 2학기/01 소프트웨어응용/Dataset/test/label/{new_list[i]}\")"
   ]
  },
  {
   "cell_type": "code",
   "execution_count": null,
   "id": "b8efbe51-7b53-4839-94c0-d99c9352ef69",
   "metadata": {},
   "outputs": [],
   "source": []
  }
 ],
 "metadata": {
  "kernelspec": {
   "display_name": "Python 3 (ipykernel)",
   "language": "python",
   "name": "python3"
  },
  "language_info": {
   "codemirror_mode": {
    "name": "ipython",
    "version": 3
   },
   "file_extension": ".py",
   "mimetype": "text/x-python",
   "name": "python",
   "nbconvert_exporter": "python",
   "pygments_lexer": "ipython3",
   "version": "3.11.4"
  }
 },
 "nbformat": 4,
 "nbformat_minor": 5
}
