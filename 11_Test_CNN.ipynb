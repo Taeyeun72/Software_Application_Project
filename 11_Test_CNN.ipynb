{
 "cells": [
  {
   "cell_type": "markdown",
   "id": "54e180a9-eb27-458f-87d6-a5f130061999",
   "metadata": {},
   "source": [
    "# Test for CNN Model"
   ]
  },
  {
   "cell_type": "markdown",
   "id": "0e8f82cd-f686-4668-a0a7-6c0380230ae7",
   "metadata": {},
   "source": [
    "# 0. Hyperparameters"
   ]
  },
  {
   "cell_type": "code",
   "execution_count": 35,
   "id": "8b7128e4-8aab-41a3-a4fe-feba7197bc8c",
   "metadata": {},
   "outputs": [],
   "source": [
    "class Config:\n",
    "    batch_size = 64\n",
    "    learning_rate = 1e-3\n",
    "    num_epochs = 20\n",
    "    scheduler_gamma = 0.9\n",
    "    train_loader = None\n",
    "    test_loader = None"
   ]
  },
  {
   "cell_type": "code",
   "execution_count": 36,
   "id": "13ad9244-f3c7-41e5-89ff-333b6330d5c8",
   "metadata": {},
   "outputs": [],
   "source": [
    "config = Config"
   ]
  },
  {
   "cell_type": "markdown",
   "id": "57435b4a-1dd1-4f99-baca-dcab3c2c42a8",
   "metadata": {},
   "source": [
    "## 0.1. Load Processor"
   ]
  },
  {
   "cell_type": "code",
   "execution_count": 3,
   "id": "4eee5e82-430b-482b-a4d1-89a28acc6f15",
   "metadata": {},
   "outputs": [],
   "source": [
    "from transformers import WhisperProcessor\n",
    "\n",
    "processor = WhisperProcessor.from_pretrained(\"openai/whisper-small\")"
   ]
  },
  {
   "cell_type": "markdown",
   "id": "89aa196e-28ea-4a91-9610-47f1f75f8661",
   "metadata": {},
   "source": [
    "# 1. Prepare Dataset"
   ]
  },
  {
   "cell_type": "markdown",
   "id": "ce58cedd-0dd1-49e6-87ad-b439764ed69b",
   "metadata": {},
   "source": [
    "## 1.1. Load Dataset"
   ]
  },
  {
   "cell_type": "code",
   "execution_count": 4,
   "id": "be4ab5b5-7326-464f-a3e3-8e2173c2d994",
   "metadata": {},
   "outputs": [
    {
     "data": {
      "text/plain": [
       "'cuda'"
      ]
     },
     "execution_count": 4,
     "metadata": {},
     "output_type": "execute_result"
    }
   ],
   "source": [
    "import torch\n",
    "device = \"cuda\" if torch.cuda.is_available() else \"cpu\"\n",
    "device"
   ]
  },
  {
   "cell_type": "code",
   "execution_count": 10,
   "id": "18775516-9de4-49d4-bc9f-f359561289eb",
   "metadata": {},
   "outputs": [
    {
     "data": {
      "application/vnd.jupyter.widget-view+json": {
       "model_id": "d037265005954f52ae7c64db9ba8ad54",
       "version_major": 2,
       "version_minor": 0
      },
      "text/plain": [
       "Resolving data files:   0%|          | 0/25 [00:00<?, ?it/s]"
      ]
     },
     "metadata": {},
     "output_type": "display_data"
    }
   ],
   "source": [
    "from datasets import load_dataset\n",
    "test_dataset = load_dataset(\"./prepared_dataset_test\")"
   ]
  },
  {
   "cell_type": "code",
   "execution_count": 11,
   "id": "7152597e-5585-4333-8be9-8bb6b2a29e54",
   "metadata": {},
   "outputs": [
    {
     "data": {
      "text/plain": [
       "DatasetDict({\n",
       "    test: Dataset({\n",
       "        features: ['input_features', 'labels', 'class'],\n",
       "        num_rows: 12102\n",
       "    })\n",
       "})"
      ]
     },
     "execution_count": 11,
     "metadata": {},
     "output_type": "execute_result"
    }
   ],
   "source": [
    "test_dataset"
   ]
  },
  {
   "cell_type": "code",
   "execution_count": 12,
   "id": "4c88c006-b5e2-44e2-bf56-548622d7ca71",
   "metadata": {},
   "outputs": [],
   "source": [
    "test_dataset = test_dataset['test']"
   ]
  },
  {
   "cell_type": "code",
   "execution_count": 13,
   "id": "b207e203-2f1d-453a-b901-1dc4b0fb85a4",
   "metadata": {},
   "outputs": [
    {
     "data": {
      "text/plain": [
       "Dataset({\n",
       "    features: ['input_features', 'labels', 'class'],\n",
       "    num_rows: 12102\n",
       "})"
      ]
     },
     "execution_count": 13,
     "metadata": {},
     "output_type": "execute_result"
    }
   ],
   "source": [
    "test_dataset"
   ]
  },
  {
   "cell_type": "code",
   "execution_count": 14,
   "id": "978a08f3-cc28-4d66-8b19-1b98294cf4f6",
   "metadata": {},
   "outputs": [],
   "source": [
    "test_dataset.set_format(\"torch\")"
   ]
  },
  {
   "cell_type": "markdown",
   "id": "4063551c-4de6-4335-ad87-fb48adb64efb",
   "metadata": {},
   "source": [
    "## 1.2. Collator"
   ]
  },
  {
   "cell_type": "code",
   "execution_count": 15,
   "id": "d581ef64-e929-4438-8930-9a8ca61452a8",
   "metadata": {},
   "outputs": [],
   "source": [
    "from dataclasses import dataclass\n",
    "from typing import Any, Dict, List, Union\n",
    "\n",
    "@dataclass\n",
    "class DataCollatorSpeechSeq2SeqWithPadding:\n",
    "    processor: Any\n",
    "\n",
    "    def __call__(self, features: List[Dict[str, Union[List[int], torch.Tensor]]]) -> Dict[str, torch.Tensor]:\n",
    "        # 인풋 데이터와 라벨 데이터의 길이가 다르며, 따라서 서로 다른 패딩 방법이 적용되어야 한다. 그러므로 두 데이터를 분리해야 한다.\n",
    "        # 먼저 오디오 인풋 데이터를 간단히 토치 텐서로 반환하는 작업을 수행한다.\n",
    "        input_features = [{\"input_features\": feature[\"input_features\"]} for feature in features]\n",
    "        batch = self.processor.feature_extractor.pad(input_features, return_tensors=\"pt\")\n",
    "\n",
    "        # Tokenize된 레이블 시퀀스를 가져온다.\n",
    "        label_features = [{\"input_ids\": feature[\"labels\"]} for feature in features]\n",
    "        # 레이블 시퀀스에 대해 최대 길이만큼 패딩 작업을 실시한다.\n",
    "        labels_batch = self.processor.tokenizer.pad(label_features, return_tensors=\"pt\")\n",
    "\n",
    "        # 패딩 토큰을 -100으로 치환하여 loss 계산 과정에서 무시되도록 한다.\n",
    "        labels = labels_batch[\"input_ids\"].masked_fill(labels_batch.attention_mask.ne(1), -100)\n",
    "\n",
    "        # 이전 토크나이즈 과정에서 bos 토큰이 추가되었다면 bos 토큰을 잘라낸다.\n",
    "        # 해당 토큰은 이후 언제든 추가할 수 있다.\n",
    "        if (labels[:, 0] == self.processor.tokenizer.bos_token_id).all().cpu().item():\n",
    "            labels = labels[:, 1:]\n",
    "\n",
    "        batch[\"labels\"] = labels\n",
    "\n",
    "        class_list = [feature[\"class\"] for feature in features]\n",
    "        classes = torch.stack(class_list)\n",
    "        classes -= 1 # torch.tensor([1, 2, 3, ..., 19])를 torch.tensor([0, 1, 2, ..., 18])로 변경\n",
    "\n",
    "        return batch, classes"
   ]
  },
  {
   "cell_type": "code",
   "execution_count": 16,
   "id": "10af72f8-5203-4ec4-9371-f0a498ea41d6",
   "metadata": {},
   "outputs": [],
   "source": [
    "data_collator = DataCollatorSpeechSeq2SeqWithPadding(processor=processor)"
   ]
  },
  {
   "cell_type": "markdown",
   "id": "c1743249-ecf8-4d4c-b81f-f84f8e32d8c2",
   "metadata": {},
   "source": [
    "## 1.3. DataLoader"
   ]
  },
  {
   "cell_type": "code",
   "execution_count": 17,
   "id": "5f9b8767-7165-4317-b87b-268382529bbd",
   "metadata": {},
   "outputs": [],
   "source": [
    "from torch.utils.data import DataLoader\n",
    "\n",
    "test_dataloader = DataLoader(test_dataset, batch_size=Config.batch_size, collate_fn=data_collator)"
   ]
  },
  {
   "cell_type": "code",
   "execution_count": 18,
   "id": "05ccff78-2726-466c-9143-ad01364c1c82",
   "metadata": {},
   "outputs": [],
   "source": [
    "config.test_loader = test_dataloader"
   ]
  },
  {
   "cell_type": "markdown",
   "id": "77ace1a9-9324-49e4-9d8f-299a059aae62",
   "metadata": {},
   "source": [
    "# 2. Model"
   ]
  },
  {
   "cell_type": "code",
   "execution_count": 23,
   "id": "636dfbc0-2edf-4622-a813-23dd4bacc8ec",
   "metadata": {},
   "outputs": [],
   "source": [
    "import torch\n",
    "import torch.nn as nn\n",
    "\n",
    "class MyNet(nn.Module):\n",
    "    def __init__(self) -> None:\n",
    "        super().__init__()\n",
    "        self.conv1 = nn.Sequential(\n",
    "            nn.Conv2d(1, 8, kernel_size=3, stride=(1, 2), padding=(1, 1)), # (?, 1, 80, 3000) -> (?, 8, 80, 1500)\n",
    "            nn.ReLU(),\n",
    "            nn.MaxPool2d(kernel_size=2, stride=2)) # (?, 8, 80, 1500) -> (?, 8, 40, 750)\n",
    "        self.conv2 = nn.Sequential(\n",
    "            nn.Conv2d(8, 16, kernel_size=3, stride=(1, 2), padding=(1, 2)), # (?, 8, 40, 750) -> (?, 16, 40, 376)\n",
    "            nn.ReLU(),\n",
    "            nn.MaxPool2d(kernel_size=2, stride=2)) # (?, 16, 40, 376) -> (?, 16, 20, 188)\n",
    "        self.conv3 = nn.Sequential(\n",
    "            nn.Conv2d(16, 32, kernel_size=3, stride=(1, 2), padding=(1, 1)), # (?, 16, 20, 188) -> (?, 32, 20, 94)\n",
    "            nn.ReLU(),\n",
    "            nn.MaxPool2d(kernel_size=2, stride=2)) # (?, 32, 20, 94) -> (?, 32, 10, 47)\n",
    "        self.conv4 = nn.Sequential(\n",
    "            nn.Conv2d(32, 64, kernel_size=3, stride=(1, 2), padding=(1, 2)), # (?, 32, 10, 47) -> (?, 64, 10, 24)\n",
    "            nn.ReLU(),\n",
    "            nn.MaxPool2d(kernel_size=2, stride=2)) # (?, 64, 10, 24) -> (?, 64, 5, 12)\n",
    "        self.conv5 = nn.Sequential(\n",
    "            nn.Conv2d(64, 128, kernel_size=3, stride=(1, 2), padding=(1, 1)), # (?, 64, 5, 12) -> (?, 128, 5, 6)\n",
    "            nn.ReLU(),\n",
    "            nn.MaxPool2d(kernel_size=(1, 2), stride=(1, 2))) # (?, 128, 5, 6) -> (?, 128, 5, 3)\n",
    "\n",
    "        self.fc1 = nn.Linear(128*5*3, 128, bias=True) # (?, 256, 5, 3) -> (?, 128)\n",
    "        nn.init.kaiming_normal_(self.fc1.weight, nonlinearity='relu') # He Initialization\n",
    "        self.linear1 = nn.Sequential(\n",
    "            self.fc1,\n",
    "            nn.ReLU(),\n",
    "            nn.Dropout(p=0.2)) # 20% dropout\n",
    "\n",
    "        self.fc2 = nn.Linear(128, 64, bias=True) # (?, 128) -> (?, 64)\n",
    "        nn.init.kaiming_normal_(self.fc2.weight, nonlinearity='relu')\n",
    "        self.linear2 = nn.Sequential(\n",
    "            self.fc2,\n",
    "            nn.ReLU(),\n",
    "            nn.Dropout(p=0.2)) # 20% dropout\n",
    "\n",
    "        self.fc = nn.Linear(64, 19, bias=True) # (?, 64), (?, 19)\n",
    "\n",
    "    def forward(self, x):\n",
    "        x = x.view(-1, 1, 80, 3000)\n",
    "        x = self.conv1(x)\n",
    "        x = self.conv2(x)\n",
    "        x = self.conv3(x)\n",
    "        x = self.conv4(x)\n",
    "        x = self.conv5(x)\n",
    "        x = x.view(-1, 128*5*3)\n",
    "        x = self.linear1(x)\n",
    "        x = self.linear2(x)\n",
    "        x = self.fc(x)\n",
    "        return x\n",
    "\n",
    "model = MyNet().to(device)\n",
    "\n",
    "# 적절한 optimizer, Scheduler를 선택: torch.optim을 사용\n",
    "optimizer = torch.optim.Adam(model.parameters(), lr=config.learning_rate, weight_decay=1e-4) # Adam Optimizer + L2 Regularization(weight_decay)\n",
    "# scheduler = torch.optim.lr_scheduler.ExponentialLR(optimizer, gamma=config.scheduler_gamma) # Exponential Learning Rate Scheduler\n",
    "scheduler = torch.optim.lr_scheduler.ReduceLROnPlateau(optimizer)\n",
    "\n",
    "# 적절한 Loss function을 선택: nn 모듈의 Function을 사용\n",
    "criterion = nn.CrossEntropyLoss()"
   ]
  },
  {
   "cell_type": "markdown",
   "id": "eb048495-83e7-4616-ae6e-bc5b6cae48da",
   "metadata": {},
   "source": [
    "# 3. Inference"
   ]
  },
  {
   "cell_type": "code",
   "execution_count": 24,
   "id": "97835054-dcd0-41ab-919a-5dddacd565f2",
   "metadata": {},
   "outputs": [],
   "source": [
    "from tqdm import tqdm\n",
    "\n",
    "def evaluate(model, test_loader):\n",
    "    model.eval()\n",
    "    test_loss = 0\n",
    "    correct = 0\n",
    "    predictions_list = []\n",
    "    labels_list = []\n",
    "    \n",
    "    with torch.no_grad():\n",
    "        with tqdm(total=len(test_loader), desc=\"Evaluating\") as pbar:\n",
    "            for features, labels in test_loader:\n",
    "                input_features = features['input_features']\n",
    "                input_features = input_features.to(device)\n",
    "                labels = labels.to(device)\n",
    "                \n",
    "                output = model(input_features)\n",
    "                \n",
    "                test_loss += criterion(output, labels).item()\n",
    "                prediction = output.max(1, keepdim = True)[1]\n",
    "                correct += prediction.eq(labels.view_as(prediction)).sum().item()\n",
    "\n",
    "                predictions_list.extend(prediction)\n",
    "                labels_list.extend(labels)\n",
    "                pbar.update(1)\n",
    "\n",
    "    test_loss /= len(test_loader)\n",
    "    test_accuracy = 100. * correct / len(test_loader.dataset)\n",
    "    return test_loss, test_accuracy, predictions_list, labels_list\n",
    "\n",
    "def pred(model, test_loader):\n",
    "    model.eval()\n",
    "    pred_li = [] # 예측 결과를 모두 저장하는 리스트입니다.\n",
    "\n",
    "    with torch.no_grad():\n",
    "        with tqdm(total=len(test_loader), desc=\"Predicting\") as pbar:\n",
    "            for features, labels in test_loader:\n",
    "                input_features = features['input_features']\n",
    "                input_features = input_features.to(device)\n",
    "                output = model(input_features)\n",
    "                pred_li.append(output.cpu().numpy().argmax(axis=1))\n",
    "                pbar.update(1)\n",
    "\n",
    "    return np.concatenate(pred_li) # 예측 결과"
   ]
  },
  {
   "cell_type": "code",
   "execution_count": 25,
   "id": "80d059ba-9f5f-4126-8b03-bf7d30771fed",
   "metadata": {},
   "outputs": [],
   "source": [
    "def inference(model_name, check_epoch):\n",
    "    check_point = model_name + \"/ckpt-\" + str(check_epoch) + \".pt\"\n",
    "    ckpt = torch.load(check_point)\n",
    "    model.load_state_dict(ckpt['model'])\n",
    "    optimizer.load_state_dict(ckpt['optimizer'])\n",
    "    print(f'Load model: {model_name} | epoch {check_epoch}')\n",
    "\n",
    "    test_loss, test_accuracy, predictions_list, labels_list = evaluate(model, config.test_loader)\n",
    "    print(f\"Test Loss: {test_loss:.4f}, \\tTest Accuracy: {test_accuracy:.2f} % \\n\")\n",
    "\n",
    "    return predictions_list, labels_list"
   ]
  },
  {
   "cell_type": "code",
   "execution_count": 26,
   "id": "abf200e0-5f43-41ce-b2f7-b47f4c401fe8",
   "metadata": {},
   "outputs": [
    {
     "name": "stdout",
     "output_type": "stream",
     "text": [
      "Load model: save06 | epoch 13\n"
     ]
    },
    {
     "name": "stderr",
     "output_type": "stream",
     "text": [
      "Evaluating: 100%|████████████████████████████████████████████████████████████████████| 190/190 [00:53<00:00,  3.54it/s]"
     ]
    },
    {
     "name": "stdout",
     "output_type": "stream",
     "text": [
      "Test Loss: 0.1900, \tTest Accuracy: 94.61 % \n",
      "\n"
     ]
    },
    {
     "name": "stderr",
     "output_type": "stream",
     "text": [
      "\n"
     ]
    }
   ],
   "source": [
    "predictions_list, labels_list = inference('save06', 13)"
   ]
  },
  {
   "cell_type": "code",
   "execution_count": 27,
   "id": "e7769b73-56b2-4b11-ad81-27ab174c6d0e",
   "metadata": {},
   "outputs": [],
   "source": [
    "predictions_list = [int(tensor) for tensor in predictions_list]"
   ]
  },
  {
   "cell_type": "code",
   "execution_count": 28,
   "id": "f4f28074-a7a5-442d-bc15-ce3bcf76942a",
   "metadata": {},
   "outputs": [],
   "source": [
    "labels_list = [int(tensor) for tensor in labels_list]"
   ]
  },
  {
   "cell_type": "code",
   "execution_count": 34,
   "id": "86485a9f-ff6e-4b3c-86f2-71425b6f9570",
   "metadata": {},
   "outputs": [
    {
     "data": {
      "image/png": "[encoded data removed]",
      "text/plain": [
       "<Figure size 1000x600 with 2 Axes>"
      ]
     },
     "metadata": {},
     "output_type": "display_data"
    }
   ],
   "source": [
    "from sklearn.metrics import confusion_matrix, accuracy_score, precision_score, recall_score, f1_score\n",
    "import seaborn as sns\n",
    "import matplotlib.pyplot as plt\n",
    "\n",
    "confusion = confusion_matrix(labels_list, predictions_list)\n",
    "\n",
    "class_labels = [f'{i}' for i in range(1, 20)]\n",
    "\n",
    "plt.figure(figsize=(10, 6))\n",
    "sns.heatmap(confusion, annot=True, fmt='d', cmap='YlOrBr', xticklabels=class_labels, yticklabels=class_labels)\n",
    "\n",
    "# 축 레이블 추가\n",
    "plt.xlabel('Predicted')\n",
    "plt.ylabel('True')\n",
    "\n",
    "# 플롯 보여주기\n",
    "plt.show()"
   ]
  },
  {
   "cell_type": "markdown",
   "id": "ffac7f9b-3d3a-47a4-8ea4-67aec9b832b1",
   "metadata": {},
   "source": [
    "# Inference"
   ]
  },
  {
   "cell_type": "code",
   "execution_count": 47,
   "id": "c0903fed-4795-4a30-b50c-9a4a133553ed",
   "metadata": {},
   "outputs": [
    {
     "name": "stdout",
     "output_type": "stream",
     "text": [
      "prediction: 3\n"
     ]
    }
   ],
   "source": [
    "import librosa\n",
    "\n",
    "y, s = librosa.load(\"위급상황.wav\", sr=16000)\n",
    "\n",
    "input_features = processor(y, sampling_rate=16000, return_tensors=\"pt\").input_features\n",
    "with torch.no_grad():\n",
    "    output = model(input_features.to(\"cuda\"))\n",
    "    prediction = output.max(1, keepdim = True)[1].item()\n",
    "    print(\"prediction:\", prediction)"
   ]
  },
  {
   "cell_type": "code",
   "execution_count": 48,
   "id": "150b2030-d2b8-4f15-9214-d0890a13f9d3",
   "metadata": {},
   "outputs": [
    {
     "name": "stdout",
     "output_type": "stream",
     "text": [
      "prediction: 16\n"
     ]
    }
   ],
   "source": [
    "y, s = librosa.load(\"비위급상황.wav\", sr=16000)\n",
    "\n",
    "input_features = processor(y, sampling_rate=16000, return_tensors=\"pt\").input_features\n",
    "with torch.no_grad():\n",
    "    output = model(input_features.to(\"cuda\"))\n",
    "    prediction = output.max(1, keepdim = True)[1].item()\n",
    "    print(\"prediction:\", prediction)"
   ]
  },
  {
   "cell_type": "code",
   "execution_count": 56,
   "id": "f2b7d805-fc97-4337-bdfa-c12f6c143bd1",
   "metadata": {},
   "outputs": [
    {
     "name": "stdout",
     "output_type": "stream",
     "text": [
      "prediction: 13\n"
     ]
    }
   ],
   "source": [
    "y, s = librosa.load(\"낙상.wav\", sr=16000)\n",
    "\n",
    "input_features = processor(y, sampling_rate=16000, return_tensors=\"pt\").input_features\n",
    "with torch.no_grad():\n",
    "    output = model(input_features.to(\"cuda\"))\n",
    "    prediction = output.max(1, keepdim = True)[1].item()\n",
    "    print(\"prediction:\", prediction)"
   ]
  },
  {
   "cell_type": "code",
   "execution_count": 66,
   "id": "8faa9431-edfa-4f57-a487-e6e6871ce21e",
   "metadata": {},
   "outputs": [
    {
     "name": "stdout",
     "output_type": "stream",
     "text": [
      "prediction: 14\n"
     ]
    }
   ],
   "source": [
    "y, s = librosa.load(\"실내.wav\", sr=16000)\n",
    "\n",
    "input_features = processor(y, sampling_rate=16000, return_tensors=\"pt\").input_features\n",
    "with torch.no_grad():\n",
    "    output = model(input_features.to(\"cuda\"))\n",
    "    prediction = output.max(1, keepdim = True)[1].item()\n",
    "    print(\"prediction:\", prediction)"
   ]
  },
  {
   "cell_type": "code",
   "execution_count": 63,
   "id": "5b83e360-34ec-47a3-abcb-49f8b43aa572",
   "metadata": {},
   "outputs": [
    {
     "name": "stdout",
     "output_type": "stream",
     "text": [
      "prediction: 4\n"
     ]
    }
   ],
   "source": [
    "y, s = librosa.load(\"지연 위급상황.wav\", sr=16000)\n",
    "\n",
    "input_features = processor(y, sampling_rate=16000, return_tensors=\"pt\").input_features\n",
    "with torch.no_grad():\n",
    "    output = model(input_features.to(\"cuda\"))\n",
    "    prediction = output.max(1, keepdim = True)[1].item()\n",
    "    print(\"prediction:\", prediction)"
   ]
  },
  {
   "cell_type": "code",
   "execution_count": 67,
   "id": "666efcbd-b292-4b44-8f38-ed52f92865f3",
   "metadata": {},
   "outputs": [],
   "source": [
    "A = [label < 14 for label in labels_list]\n",
    "B = [pred < 14 for pred in predictions_list]"
   ]
  },
  {
   "cell_type": "code",
   "execution_count": 68,
   "id": "00004a2d-732c-42e7-9dea-3728e3ca21c8",
   "metadata": {},
   "outputs": [
    {
     "name": "stdout",
     "output_type": "stream",
     "text": [
      "0.996033713435518\n"
     ]
    }
   ],
   "source": [
    "acc = 0\n",
    "for a, b in zip(A, B):\n",
    "    if a == b:\n",
    "        acc += 1 / len(A)\n",
    "print(acc)"
   ]
  },
  {
   "cell_type": "code",
   "execution_count": 69,
   "id": "4db51c55-b121-44a3-8a59-2cf2f581eff4",
   "metadata": {},
   "outputs": [],
   "source": [
    "import json\n",
    "\n",
    "with open('pred_CNN.json', 'w') as file:\n",
    "    json.dump(B, file)"
   ]
  },
  {
   "cell_type": "code",
   "execution_count": null,
   "id": "87c2ed37-6eec-4cfb-811b-ff7f159085c6",
   "metadata": {},
   "outputs": [],
   "source": []
  }
 ],
 "metadata": {
  "kernelspec": {
   "display_name": "Python 3 (ipykernel)",
   "language": "python",
   "name": "python3"
  },
  "language_info": {
   "codemirror_mode": {
    "name": "ipython",
    "version": 3
   },
   "file_extension": ".py",
   "mimetype": "text/x-python",
   "name": "python",
   "nbconvert_exporter": "python",
   "pygments_lexer": "ipython3",
   "version": "3.11.4"
  }
 },
 "nbformat": 4,
 "nbformat_minor": 5
}
